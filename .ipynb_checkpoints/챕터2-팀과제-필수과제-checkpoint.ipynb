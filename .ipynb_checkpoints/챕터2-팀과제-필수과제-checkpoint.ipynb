{
 "cells": [
  {
   "cell_type": "markdown",
   "metadata": {
    "colab_type": "text",
    "id": "view-in-github"
   },
   "source": [
    "<a href=\"https://colab.research.google.com/github/ysooj/ysooj.github.io/blob/main/%EC%B1%95%ED%84%B02-%ED%8C%80%EA%B3%BC%EC%A0%9C-%ED%95%84%EC%88%98%EA%B3%BC%EC%A0%9C.ipynb\" target=\"_parent\"><img src=\"https://colab.research.google.com/assets/colab-badge.svg\" alt=\"Open In Colab\"/></a>"
   ]
  },
  {
   "cell_type": "code",
   "execution_count": 45,
   "metadata": {
    "id": "WTP1XGGk8mSW"
   },
   "outputs": [],
   "source": [
    "import numpy as np # 연산 \n",
    "import pandas as pd # 데이터 처리\n",
    "import seaborn as sns\n",
    "titanic = sns.load_dataset('titanic')"
   ]
  },
  {
   "cell_type": "code",
   "execution_count": 46,
   "metadata": {
    "colab": {
     "base_uri": "https://localhost:8080/",
     "height": 206
    },
    "id": "X0UKZnwloTSO",
    "outputId": "eb220a3a-0537-4bc6-ab0f-b60774f6e3b1"
   },
   "outputs": [
    {
     "data": {
      "text/html": [
       "<div>\n",
       "<style scoped>\n",
       "    .dataframe tbody tr th:only-of-type {\n",
       "        vertical-align: middle;\n",
       "    }\n",
       "\n",
       "    .dataframe tbody tr th {\n",
       "        vertical-align: top;\n",
       "    }\n",
       "\n",
       "    .dataframe thead th {\n",
       "        text-align: right;\n",
       "    }\n",
       "</style>\n",
       "<table border=\"1\" class=\"dataframe\">\n",
       "  <thead>\n",
       "    <tr style=\"text-align: right;\">\n",
       "      <th></th>\n",
       "      <th>survived</th>\n",
       "      <th>pclass</th>\n",
       "      <th>sex</th>\n",
       "      <th>age</th>\n",
       "      <th>sibsp</th>\n",
       "      <th>parch</th>\n",
       "      <th>fare</th>\n",
       "      <th>embarked</th>\n",
       "      <th>class</th>\n",
       "      <th>who</th>\n",
       "      <th>adult_male</th>\n",
       "      <th>deck</th>\n",
       "      <th>embark_town</th>\n",
       "      <th>alive</th>\n",
       "      <th>alone</th>\n",
       "    </tr>\n",
       "  </thead>\n",
       "  <tbody>\n",
       "    <tr>\n",
       "      <th>0</th>\n",
       "      <td>0</td>\n",
       "      <td>3</td>\n",
       "      <td>male</td>\n",
       "      <td>22.0</td>\n",
       "      <td>1</td>\n",
       "      <td>0</td>\n",
       "      <td>7.2500</td>\n",
       "      <td>S</td>\n",
       "      <td>Third</td>\n",
       "      <td>man</td>\n",
       "      <td>True</td>\n",
       "      <td>NaN</td>\n",
       "      <td>Southampton</td>\n",
       "      <td>no</td>\n",
       "      <td>False</td>\n",
       "    </tr>\n",
       "    <tr>\n",
       "      <th>1</th>\n",
       "      <td>1</td>\n",
       "      <td>1</td>\n",
       "      <td>female</td>\n",
       "      <td>38.0</td>\n",
       "      <td>1</td>\n",
       "      <td>0</td>\n",
       "      <td>71.2833</td>\n",
       "      <td>C</td>\n",
       "      <td>First</td>\n",
       "      <td>woman</td>\n",
       "      <td>False</td>\n",
       "      <td>C</td>\n",
       "      <td>Cherbourg</td>\n",
       "      <td>yes</td>\n",
       "      <td>False</td>\n",
       "    </tr>\n",
       "    <tr>\n",
       "      <th>2</th>\n",
       "      <td>1</td>\n",
       "      <td>3</td>\n",
       "      <td>female</td>\n",
       "      <td>26.0</td>\n",
       "      <td>0</td>\n",
       "      <td>0</td>\n",
       "      <td>7.9250</td>\n",
       "      <td>S</td>\n",
       "      <td>Third</td>\n",
       "      <td>woman</td>\n",
       "      <td>False</td>\n",
       "      <td>NaN</td>\n",
       "      <td>Southampton</td>\n",
       "      <td>yes</td>\n",
       "      <td>True</td>\n",
       "    </tr>\n",
       "    <tr>\n",
       "      <th>3</th>\n",
       "      <td>1</td>\n",
       "      <td>1</td>\n",
       "      <td>female</td>\n",
       "      <td>35.0</td>\n",
       "      <td>1</td>\n",
       "      <td>0</td>\n",
       "      <td>53.1000</td>\n",
       "      <td>S</td>\n",
       "      <td>First</td>\n",
       "      <td>woman</td>\n",
       "      <td>False</td>\n",
       "      <td>C</td>\n",
       "      <td>Southampton</td>\n",
       "      <td>yes</td>\n",
       "      <td>False</td>\n",
       "    </tr>\n",
       "    <tr>\n",
       "      <th>4</th>\n",
       "      <td>0</td>\n",
       "      <td>3</td>\n",
       "      <td>male</td>\n",
       "      <td>35.0</td>\n",
       "      <td>0</td>\n",
       "      <td>0</td>\n",
       "      <td>8.0500</td>\n",
       "      <td>S</td>\n",
       "      <td>Third</td>\n",
       "      <td>man</td>\n",
       "      <td>True</td>\n",
       "      <td>NaN</td>\n",
       "      <td>Southampton</td>\n",
       "      <td>no</td>\n",
       "      <td>True</td>\n",
       "    </tr>\n",
       "  </tbody>\n",
       "</table>\n",
       "</div>"
      ],
      "text/plain": [
       "   survived  pclass     sex   age  sibsp  parch     fare embarked  class  \\\n",
       "0         0       3    male  22.0      1      0   7.2500        S  Third   \n",
       "1         1       1  female  38.0      1      0  71.2833        C  First   \n",
       "2         1       3  female  26.0      0      0   7.9250        S  Third   \n",
       "3         1       1  female  35.0      1      0  53.1000        S  First   \n",
       "4         0       3    male  35.0      0      0   8.0500        S  Third   \n",
       "\n",
       "     who  adult_male deck  embark_town alive  alone  \n",
       "0    man        True  NaN  Southampton    no  False  \n",
       "1  woman       False    C    Cherbourg   yes  False  \n",
       "2  woman       False  NaN  Southampton   yes   True  \n",
       "3  woman       False    C  Southampton   yes  False  \n",
       "4    man        True  NaN  Southampton    no   True  "
      ]
     },
     "execution_count": 46,
     "metadata": {},
     "output_type": "execute_result"
    }
   ],
   "source": [
    "titanic.head()"
   ]
  },
  {
   "cell_type": "code",
   "execution_count": 47,
   "metadata": {
    "colab": {
     "base_uri": "https://localhost:8080/",
     "height": 300
    },
    "id": "dhrwlQA9oyQb",
    "outputId": "93cd6e53-7222-46e0-9750-ef37e97bb4b3"
   },
   "outputs": [
    {
     "data": {
      "text/html": [
       "<div>\n",
       "<style scoped>\n",
       "    .dataframe tbody tr th:only-of-type {\n",
       "        vertical-align: middle;\n",
       "    }\n",
       "\n",
       "    .dataframe tbody tr th {\n",
       "        vertical-align: top;\n",
       "    }\n",
       "\n",
       "    .dataframe thead th {\n",
       "        text-align: right;\n",
       "    }\n",
       "</style>\n",
       "<table border=\"1\" class=\"dataframe\">\n",
       "  <thead>\n",
       "    <tr style=\"text-align: right;\">\n",
       "      <th></th>\n",
       "      <th>survived</th>\n",
       "      <th>pclass</th>\n",
       "      <th>age</th>\n",
       "      <th>sibsp</th>\n",
       "      <th>parch</th>\n",
       "      <th>fare</th>\n",
       "    </tr>\n",
       "  </thead>\n",
       "  <tbody>\n",
       "    <tr>\n",
       "      <th>count</th>\n",
       "      <td>891.000000</td>\n",
       "      <td>891.000000</td>\n",
       "      <td>714.000000</td>\n",
       "      <td>891.000000</td>\n",
       "      <td>891.000000</td>\n",
       "      <td>891.000000</td>\n",
       "    </tr>\n",
       "    <tr>\n",
       "      <th>mean</th>\n",
       "      <td>0.383838</td>\n",
       "      <td>2.308642</td>\n",
       "      <td>29.699118</td>\n",
       "      <td>0.523008</td>\n",
       "      <td>0.381594</td>\n",
       "      <td>32.204208</td>\n",
       "    </tr>\n",
       "    <tr>\n",
       "      <th>std</th>\n",
       "      <td>0.486592</td>\n",
       "      <td>0.836071</td>\n",
       "      <td>14.526497</td>\n",
       "      <td>1.102743</td>\n",
       "      <td>0.806057</td>\n",
       "      <td>49.693429</td>\n",
       "    </tr>\n",
       "    <tr>\n",
       "      <th>min</th>\n",
       "      <td>0.000000</td>\n",
       "      <td>1.000000</td>\n",
       "      <td>0.420000</td>\n",
       "      <td>0.000000</td>\n",
       "      <td>0.000000</td>\n",
       "      <td>0.000000</td>\n",
       "    </tr>\n",
       "    <tr>\n",
       "      <th>25%</th>\n",
       "      <td>0.000000</td>\n",
       "      <td>2.000000</td>\n",
       "      <td>20.125000</td>\n",
       "      <td>0.000000</td>\n",
       "      <td>0.000000</td>\n",
       "      <td>7.910400</td>\n",
       "    </tr>\n",
       "    <tr>\n",
       "      <th>50%</th>\n",
       "      <td>0.000000</td>\n",
       "      <td>3.000000</td>\n",
       "      <td>28.000000</td>\n",
       "      <td>0.000000</td>\n",
       "      <td>0.000000</td>\n",
       "      <td>14.454200</td>\n",
       "    </tr>\n",
       "    <tr>\n",
       "      <th>75%</th>\n",
       "      <td>1.000000</td>\n",
       "      <td>3.000000</td>\n",
       "      <td>38.000000</td>\n",
       "      <td>1.000000</td>\n",
       "      <td>0.000000</td>\n",
       "      <td>31.000000</td>\n",
       "    </tr>\n",
       "    <tr>\n",
       "      <th>max</th>\n",
       "      <td>1.000000</td>\n",
       "      <td>3.000000</td>\n",
       "      <td>80.000000</td>\n",
       "      <td>8.000000</td>\n",
       "      <td>6.000000</td>\n",
       "      <td>512.329200</td>\n",
       "    </tr>\n",
       "  </tbody>\n",
       "</table>\n",
       "</div>"
      ],
      "text/plain": [
       "         survived      pclass         age       sibsp       parch        fare\n",
       "count  891.000000  891.000000  714.000000  891.000000  891.000000  891.000000\n",
       "mean     0.383838    2.308642   29.699118    0.523008    0.381594   32.204208\n",
       "std      0.486592    0.836071   14.526497    1.102743    0.806057   49.693429\n",
       "min      0.000000    1.000000    0.420000    0.000000    0.000000    0.000000\n",
       "25%      0.000000    2.000000   20.125000    0.000000    0.000000    7.910400\n",
       "50%      0.000000    3.000000   28.000000    0.000000    0.000000   14.454200\n",
       "75%      1.000000    3.000000   38.000000    1.000000    0.000000   31.000000\n",
       "max      1.000000    3.000000   80.000000    8.000000    6.000000  512.329200"
      ]
     },
     "execution_count": 47,
     "metadata": {},
     "output_type": "execute_result"
    }
   ],
   "source": [
    "titanic.describe()"
   ]
  },
  {
   "cell_type": "code",
   "execution_count": 48,
   "metadata": {
    "id": "Sxmm4DHAo-t4"
   },
   "outputs": [],
   "source": [
    "# count : 개수. 해당 열의 데이터가 몇 개 있는지 세어준다.\n",
    "# mean : 평균. 해당 열의 평균을 알려준다.\n",
    "# std : 표준편차. 데이터가 평균을 기준으로 얼마나 흩어져 있는지를 나타낸다. 값이 클수록 데이터가 더 많이 분산돼있다는 뜻.\n",
    "# min : 최솟값. 해당 열에서 가장 작은 값을 의미한다.\n",
    "# 25% : 1사분위수, Q1. 데이터 중 25%에 해당하는 값으로, 데이터의 하위 25%가 이 값보다 작다.\n",
    "# 50% : median 또는 2사분위수, Q2. 중앙값, 즉 데이터를 작은 값부터 큰 값으로 정렬했을 때 정확히 가운데 위치한 값. 데이터의 50%가 이 값보다 작고, 50%가 이 값보다 크다.\n",
    "# 75% : 3사분위수, Q3. 데이터 중 상위 25%에 해당하는 값. 전체 데이터의 75%가 이 값보다 작고, 25%가 이 값보다 크다.\n",
    "# max : 최댓값. 해당 열에서 가장 큰 값을 의미한다."
   ]
  },
  {
   "cell_type": "code",
   "execution_count": 49,
   "metadata": {
    "id": "HhTDzq_65qhN"
   },
   "outputs": [],
   "source": [
    "# count : 데이터에서 결측값(NaN)을 제외한 존재하는 값들의 개수로, 데이터의 총 갯수를 보여준다.\n",
    "#         단순하게 값이 얼마나 많이 기록되었는지 알 수 있다.\n",
    "#         len() 함수를 통해 구할 수 있다.\n",
    "# mean : 해당 열의 모든 값을 더한 후 값들의 개수로 나눈 값으로, 데이터의 평균적인 값을 보여준다.\n",
    "#        데이터의 중심 경향을 알 수 있습니다.\n",
    "#        sum()과 len()을 통해 구할 수 있습니다.\n",
    "# std : 데이터가 평균을 기준으로 얼마나 퍼져 있는지를 보여주는 표준편차 값이다.\n",
    "#       데이터가 얼마나 분산되어 있는지를 알 수 있다. 값이 클수록 데이터가 평균에서 많이 흩어져 있다는 의미이다.\n",
    "#       numpy의 np.std() 함수를 통해 구할 수 있다.\n",
    "# min : 데이터에서 가장 작은 값을 나타낸다.\n",
    "#       데이터의 최소값이 어떤지 확인할 수 있다.\n",
    "#       min() 함수를 통해 구할 수 있다.\n",
    "# 25% : 25%는 데이터를 작은 값부터 큰 값으로 나열했을 때 하위 25%에 해당하는 값이다.\n",
    "#       데이터의 하위 25%가 어디에 위치하는지 알 수 있다.\n",
    "#       numpy의 np.percentile(data, 25) 함수를 통해 구할 수 있다.\n",
    "# 50% : 50%는 데이터를 작은 값부터 큰 값으로 정렬했을 때 정확히 중간에 위치한 값으로, 데이터의 중앙값을 의미한다.\n",
    "#       데이터의 절반이 이 값보다 작고, 절반이 이 값보다 크다.\n",
    "#       numpy의 np.median() 함수를 통해 구할 수 있다.\n",
    "# 75% : 75%는 데이터를 작은 값부터 큰 값으로 나열했을 때 상위 25%에 해당하는 값이다.\n",
    "#       데이터의 상위 25%가 어디에 위치하는지 알 수 있다.\n",
    "#       numpy의 np.percentile(data, 75) 함수를 통해 구할 수 있다.\n",
    "# max : max는 데이터에서 가장 큰 값을 나타낸다.\n",
    "#       데이터의 최대값이 무엇인지 확인할 수 있다.\n",
    "#       max() 함수를 통해 구할 수 있다."
   ]
  },
  {
   "cell_type": "code",
   "execution_count": 50,
   "metadata": {},
   "outputs": [],
   "source": [
    "# 1. count: colunm별 총 data 수\n",
    "# 2. mean: 평균\n",
    "\n",
    "# df.mean(axis=None, skipna=None, level=None, numeric_only=None, kwargs)\n",
    "# axis : {0 : index / 1 : columns} 계산의 기준이 될 축\n",
    "# skipna : 결측치를 무시할지 여부\n",
    "# level : Multi Index의 경우 연산을 수행할 레벨\n",
    "# numeric_only : 숫자, 소수, 부울만 이용할지 여부\n",
    "# kwargs : 함수에 전달할 추가 키워드\n",
    "\n",
    "# 3. std: 표준편차\n",
    "\n",
    "# df.std(axis=None, skipna=None, level=None, ddof=1, numeric_only=None, kwargs)\n",
    "# axis : 표본표준편차를 구할 축을 지정\n",
    "# skipna : 결측치를 무시할지 여부\n",
    "# level : Multi Index의 경우 대상 레벨을 지정\n",
    "# ddof : 표본표준편차 계산의 분모가되는 자유도를 지정 산식은 n - ddof값으로 기본값은 n-1\n",
    "# numeric_only : 숫자, 소수, bool로 구성된 열만 대상으로할지 여부\n",
    "# kwargs : 함수의 경우에 추가적으로 적용할 키워드\n",
    "\n",
    "# 4. max/min: 최대/최소값\n",
    "\n",
    "# df.max(axis=None, skipna=None, level=None, numeric_only=None, kwargs)\n",
    "# df.min(axis=None, skipna=None, level=None, numeric_only=None, kwargs)\n",
    "# axis : {0 : index / 1 : columns} 계산의 기준이 될 축입니다.\n",
    "# skipna : 결측치를 무시할지 여부\n",
    "# level : Multi Index의 경우 연산을 수행할 레벨\n",
    "# numeric_only : 숫자, 소수, 부울만 이용할지 여부\n",
    "# kwargs : 함수에 전달할 추가 키워드\n",
    "\n",
    "# 5. 25/50.75%: 백분위수 지점\n",
    "\n",
    "# df.quantile(q=0.5, axis=0, numeric_only=True, interpolation='linear')\n",
    "# q : 분위수, 소수로 표현 (예 : 75% = 0.75)\n",
    "# aixs : 분위수의 값을 구할 축\n",
    "# numeric_only : 수(소수)만 대상으로할지 여부 False일 경우 datetime 및 timedelta 데이터의 분위수도 계산\n",
    "# interpolation : 분위수에 값이 없을때 보간하는 방법\n",
    "#   liner : i + (j - i) x 비율 [분위수 앞, 뒤 수 간격 * 비율]\n",
    "#   lower : i [분위수 앞, 뒤수 중 작은수]\n",
    "#   higher : j [분위수 앞, 뒤수 중 큰수]\n",
    "#   midpoint : (i+j)÷2 [분위수 앞, 뒤수의 중간값]\n",
    "#   nearest : i or j [분위수 앞, 뒤수중 분위수에 가까운 수]"
   ]
  },
  {
   "cell_type": "code",
   "execution_count": 51,
   "metadata": {
    "colab": {
     "base_uri": "https://localhost:8080/"
    },
    "id": "nX2LzN0T6nmE",
    "outputId": "8f2d5828-d6ed-43ea-f929-c25df804a87f"
   },
   "outputs": [
    {
     "data": {
      "text/plain": [
       "survived         0\n",
       "pclass           0\n",
       "sex              0\n",
       "age            177\n",
       "sibsp            0\n",
       "parch            0\n",
       "fare             0\n",
       "embarked         2\n",
       "class            0\n",
       "who              0\n",
       "adult_male       0\n",
       "deck           688\n",
       "embark_town      2\n",
       "alive            0\n",
       "alone            0\n",
       "dtype: int64"
      ]
     },
     "execution_count": 51,
     "metadata": {},
     "output_type": "execute_result"
    }
   ],
   "source": [
    "titanic.isnull().sum()"
   ]
  },
  {
   "cell_type": "code",
   "execution_count": 52,
   "metadata": {
    "colab": {
     "base_uri": "https://localhost:8080/"
    },
    "id": "_6YjVn1n6uh7",
    "outputId": "ebbb6dc7-00df-46ed-c128-3b62907ca98b"
   },
   "outputs": [
    {
     "name": "stdout",
     "output_type": "stream",
     "text": [
      "0\n",
      "0\n"
     ]
    }
   ],
   "source": [
    "titanic['age'] = titanic['age'].fillna(titanic['age'].median())\n",
    "titanic['embarked'] = titanic['embarked'].fillna(titanic['embarked'].mode()[0])\n",
    "# .mode()는 series 형태로 값을 반환\n",
    "# _ | 0\n",
    "# -----\n",
    "# 0 | S\n",
    "# .mode()[0] 으로 수정하여 첫번째 값만 반환\n",
    "print(titanic['age'].isnull().sum())\n",
    "print(titanic['embarked'].isnull().sum())"
   ]
  },
  {
   "cell_type": "code",
   "execution_count": 53,
   "metadata": {
    "colab": {
     "base_uri": "https://localhost:8080/"
    },
    "id": "jwxPzpxz8s_V",
    "outputId": "74989077-6563-4d13-ce97-588d6aa3c38d"
   },
   "outputs": [
    {
     "name": "stdout",
     "output_type": "stream",
     "text": [
      "0    0\n",
      "1    1\n",
      "2    1\n",
      "3    1\n",
      "4    0\n",
      "Name: sex, dtype: int64\n",
      "0    0\n",
      "1    1\n",
      "2    1\n",
      "3    1\n",
      "4    0\n",
      "Name: alive, dtype: int64\n",
      "0    2\n",
      "1    0\n",
      "2    2\n",
      "3    2\n",
      "4    2\n",
      "Name: embarked, dtype: int64\n"
     ]
    }
   ],
   "source": [
    "titanic['sex'] = titanic['sex'].map({'male':0, 'female':1})\n",
    "titanic['alive'] = titanic['alive'].map({'yes':1, 'no':0})\n",
    "titanic['embarked'] = titanic['embarked'].map({'C':0, 'Q':1, 'S':2})\n",
    "# .map() serise 형태만 사용 가능\n",
    "# 딕셔너리 형태로 맵핑\n",
    "print(titanic['sex'].head())\n",
    "print(titanic['alive'].head())\n",
    "print(titanic['embarked'].head())"
   ]
  },
  {
   "cell_type": "code",
   "execution_count": 54,
   "metadata": {
    "colab": {
     "base_uri": "https://localhost:8080/",
     "height": 241
    },
    "id": "1NvfWGqm94VP",
    "outputId": "407ef802-5910-4368-d3e9-8af5732e626d"
   },
   "outputs": [
    {
     "data": {
      "text/plain": [
       "0    2\n",
       "1    2\n",
       "2    1\n",
       "3    2\n",
       "4    1\n",
       "Name: family_size, dtype: int64"
      ]
     },
     "execution_count": 54,
     "metadata": {},
     "output_type": "execute_result"
    }
   ],
   "source": [
    "titanic['family_size'] = titanic['sibsp'] + titanic['parch'] + 1\n",
    "# 나까지 포함해야 하기 때문에 1을 더해주었다.\n",
    "titanic['family_size'].head()"
   ]
  },
  {
   "cell_type": "code",
   "execution_count": 56,
   "metadata": {
    "colab": {
     "base_uri": "https://localhost:8080/"
    },
    "id": "TEsKN-_D_j84",
    "outputId": "ec826f57-af66-4284-efda-f72a1a293116"
   },
   "outputs": [],
   "source": [
    "# 데이터 준비 및 모델 학습 준비\n",
    "\n",
    "titanic = titanic[['survived', 'pclass', 'sex', 'age', 'sibsp', 'parch', 'fare', 'embarked', 'family_size']]\n",
    "\n",
    "# feature, target 분리\n",
    "X = titanic.drop('survived', axis=1) # feature\n",
    "# feature: target을 예측하기 위한 독립변수\n",
    "# 예측하는 정답인 'survived'(생존여부) 제거\n",
    "y = titanic['survived'] # target\n",
    "# target: 예측해야 할 종속변수\n",
    "# 정답인 'survived'(생존여부)만 남김\n",
    "\n",
    "from sklearn.model_selection import train_test_split  # 데이터 분할\n",
    "from sklearn.preprocessing import StandardScaler      # 표준화 구구\n",
    "\n",
    "# 데이터 분할\n",
    "X_train, X_test, y_train, y_test = train_test_split(X, y, test_size=0.2, random_state=42)\n",
    "# _train: 학습용 / _test: 평가용\n",
    "# train_test-split(): train / test 를 분리 => 과적합 방지\n",
    "# 과적합: train 데이터를 100% 학습시킨 후 test 데이터에 모델을 적용했을 때 성능이 생각보다 않 나오는 경우\n",
    "# test_size: 전체 데이터 중에 평가에 사용할 비율\n",
    "# random_state: seed값 : 무작위 결과를 고정하는 값 \n",
    "# 예시가 주로 42인 이유:더글러스 애덤스의 \"은하수를 여행하는 히치하이커를 위한 안내서\" 속 궁극의 해답 42로 추측\n",
    "\n",
    "# 데이터 스케일링\n",
    "scaler = StandardScaler() # 평균이 0 분산 1 크기로 맞춤\n",
    "X_train = scaler.fit_transform(X_train) # 평균과 편차를 찾아서 정규화\n",
    "# .fit_transform() = .fit() 과 .transform()을 묶은 것\n",
    "# .fit(): 데이터에 모델을 맞추는 것/X_train 데이터의 평균과 분산을 학습\n",
    "# .transfotm(): fit()을 기준으로 얻은 평균과 분산에 맞춰 변형\n",
    "X_test = scaler.transform(X_test)\n",
    "# fit 제거 \n",
    "# X_test의 데이터도 학습되기 때문"
   ]
  },
  {
   "cell_type": "code",
   "execution_count": 60,
   "metadata": {},
   "outputs": [
    {
     "name": "stdout",
     "output_type": "stream",
     "text": [
      "Accuracy: 0.8044692737430168\n",
      "Classification Report:\n",
      "              precision    recall  f1-score   support\n",
      "\n",
      "           0       0.82      0.86      0.84       105\n",
      "           1       0.78      0.73      0.76        74\n",
      "\n",
      "    accuracy                           0.80       179\n",
      "   macro avg       0.80      0.79      0.80       179\n",
      "weighted avg       0.80      0.80      0.80       179\n",
      "\n"
     ]
    }
   ],
   "source": [
    "# Logistic Regression\n",
    "\n",
    "from sklearn.linear_model import LogisticRegression\n",
    "\n",
    "# 모델 생성 및 학습\n",
    "model = LogisticRegression()\n",
    "model.fit(X_train, y_train)\n",
    "\n",
    "# 예측\n",
    "y_pred = model.predict(X_test)\n",
    "\n",
    "from sklearn.metrics import accuracy_score, classification_report\n",
    "\n",
    "# 평가\n",
    "print(f\"Accuracy: {accuracy_score(y_test, y_pred)}\")\n",
    "print(f\"Classification Report:\\n{classification_report(y_test, y_pred)}\")"
   ]
  },
  {
   "cell_type": "code",
   "execution_count": 62,
   "metadata": {
    "colab": {
     "base_uri": "https://localhost:8080/"
    },
    "id": "yMP-vGV9CyLF",
    "outputId": "56508e83-d5fd-4e64-a0ed-40199a786cf9"
   },
   "outputs": [
    {
     "name": "stdout",
     "output_type": "stream",
     "text": [
      "Accuracy: 0.8212290502793296\n",
      "Classification Report:\n",
      "              precision    recall  f1-score   support\n",
      "\n",
      "           0       0.85      0.85      0.85       105\n",
      "           1       0.78      0.78      0.78        74\n",
      "\n",
      "    accuracy                           0.82       179\n",
      "   macro avg       0.82      0.82      0.82       179\n",
      "weighted avg       0.82      0.82      0.82       179\n",
      "\n"
     ]
    }
   ],
   "source": [
    "# Random Forest\n",
    "from sklearn.ensemble import RandomForestClassifier\n",
    "\n",
    "# 랜덤 포레스트 모델 생성\n",
    "rf_model = RandomForestClassifier(n_estimators=100, random_state=42)\n",
    "# n_estimators: 생성할 트리 개수\n",
    "\n",
    "# 모델 학습\n",
    "rf_model.fit(X_train, y_train)\n",
    "\n",
    "# 예측\n",
    "y_pred_rf = rf_model.predict(X_test)\n",
    "\n",
    "from sklearn.metrics import accuracy_score, classification_report\n",
    "\n",
    "# 평가\n",
    "print(f\"Accuracy: {accuracy_score(y_test, y_pred_rf)}\")\n",
    "print(f\"Classification Report:\\n{classification_report(y_test, y_pred_rf)}\")"
   ]
  },
  {
   "cell_type": "code",
   "execution_count": 71,
   "metadata": {
    "colab": {
     "base_uri": "https://localhost:8080/"
    },
    "id": "uhsXgTXjEBJl",
    "outputId": "e383ddb4-20a3-4178-c291-5f710e20f3f1"
   },
   "outputs": [
    {
     "name": "stdout",
     "output_type": "stream",
     "text": [
      "XGBoost 모델의 MSE: 0.18435754189944134\n"
     ]
    }
   ],
   "source": [
    "import xgboost as xgb\n",
    "from sklearn.metrics import mean_squared_error\n",
    "\n",
    "# XGBoost 모델 생성\n",
    "xgb_model = xgb.XGBClassifier(n_estimators=150, learning_rate=0.1, max_depth=3, random_state=42)\n",
    "# learning rate[default = 0.1]: 이전의 결과를 얼마나 반영할건지 일반적으로 0.01~0.2\n",
    "# max_depth [default = 6] : 트리의 최대 깊이 일반적으로 3 ~ 10\n",
    "\n",
    "# 모델 학습\n",
    "xgb_model.fit(X_train, y_train)\n",
    "\n",
    "# 예측\n",
    "y_pred_xgb = xgb_model.predict(X_test)\n",
    "\n",
    "# 평가\n",
    "mse_xgb = mean_squared_error(y_test, y_pred_xgb)\n",
    "print(f'XGBoost 모델의 MSE: {mse_xgb}')"
   ]
  },
  {
   "cell_type": "code",
   "execution_count": null,
   "metadata": {
    "id": "05kW-bW1KUBd"
   },
   "outputs": [],
   "source": []
  }
 ],
 "metadata": {
  "colab": {
   "authorship_tag": "ABX9TyOVjrZMJ+4ODof9GfcOLMI6",
   "include_colab_link": true,
   "provenance": []
  },
  "kernelspec": {
   "display_name": "Python (DLDL)",
   "language": "python",
   "name": "dldl"
  },
  "language_info": {
   "codemirror_mode": {
    "name": "ipython",
    "version": 3
   },
   "file_extension": ".py",
   "mimetype": "text/x-python",
   "name": "python",
   "nbconvert_exporter": "python",
   "pygments_lexer": "ipython3",
   "version": "3.12.7"
  }
 },
 "nbformat": 4,
 "nbformat_minor": 4
}
