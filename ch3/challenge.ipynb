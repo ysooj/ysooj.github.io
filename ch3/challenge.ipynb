{
 "cells": [
  {
   "cell_type": "markdown",
   "metadata": {},
   "source": [
    "## 코드 전체"
   ]
  },
  {
   "cell_type": "code",
   "execution_count": 16,
   "metadata": {},
   "outputs": [
    {
     "name": "stdout",
     "output_type": "stream",
     "text": [
      "[Document(metadata={'source': './[2024 한권으로 ok 주식과 세금].pdf', 'page': 2}, page_content='지난해 말 국내 상장법인 주식을 보유한 개인 투자자가 1,400만명을 넘어서는 등  \\n국민들의 주식시장에 대한 관심이 크게 증가하였습니다.\\n최근 일반 국민들의 주식투자에 대한 관심이 크게 증가했음에도 불구하고, 주식 투자  \\n관련 세금문제 등 궁금한 사항에 대하여 도움을 줄 수 있는 안내책자 등은 시중에서  \\n쉽게 찾아보기 어려운 게 현실입니다.\\n이에 국세청에서는 주식 관련 각종 세금에 대한 납세자들의 이해를 높이고 납세의무  \\n이행에 도움이 될 수 있도록 「주식과 세금」 책자를 처음으로 제작·발간하게 되었습니다.\\n이번에 새롭게 출간하는 ‘주식과 세금’ 책자는 주식거래의 기초상식과 주식의 취득  \\n부터 보유 및 처분시까지 단계별 세금문제를 총 76개의 문답형식으로 구성하는 한편, \\n인포그래픽 등을 적극 활용하여 가독성을 제고하였으며, 구체적인 절세 꿀팁 및 자주 \\n발생하는 실수 사례 등을 추가하여 활용성도 강화하였습니다.\\n모쪼록, 이 책자가 주식등 관련 납세자들의 성실한 납세의무 이행에 기여할 수 있기를\\n기대합니다.\\n2024.  5\\n국세청 자산과세국장\\n머리말'), Document(metadata={'source': './[2024 한권으로 ok 주식과 세금].pdf', 'page': 3}, page_content='본 책자에 수록된 내용은 세법에서 규정하고 있는 내용을 알기 쉽게 요약하여 서술한\\n것으로 모든 법령규정을 담고 있지는 않습니다.\\n또한, 법령이 개정되거나 법령의 해석이 변경되어 본 책자의 내용과 다른 경우가 발생\\n할 수 있으므로 실제 사안에 적용하는 경우 반드시 관련 법령과 해석 등을 충분히 확인\\n하시기 바랍니다.\\n본 책자는 발간일 현재 개정된 법령 등을 기준으로 작성되었습니다. 다만, 시행이  \\n유예된 법령 등은 반영되어 있지 않습니다.\\n본 책자에 표기된 세율은 지방소득세를 포함하지 않은 세율이며, 법령의 표기방식은  \\n일부 아래와 같이 간소화하여 표기하였습니다.\\n본 자료는 주식을 거래할 때 과세되는 세금에 대하여 납세자의 개략적인 이해를 돕기 \\n위해 일반적인 사항 위주로 수록하였으며, 개별사안에 대해 세법을 적용하는 경우 관련 \\n법령에 대한 구체적인 검토가 필요합니다.\\n일러두기\\n법령명법령명 표기 방식표기 방식\\n국세기본법\\n소득세법\\n소득세법 시행령\\n소득세법 시행규칙\\n상속세 및 증여세법\\n상속세 및 증여세법 시행령\\n상속세 및 증여세법 시행규칙\\n상속세 및 증여세법 기본통칙\\n자본시장과 금융투자업에 관한 법률\\n국기법\\n소득법\\n소득령\\n소득칙\\n상증법\\n상증령\\n상증칙\\n상증통\\n자본시장법'), Document(metadata={'source': './[2024 한권으로 ok 주식과 세금].pdf', 'page': 4}, page_content=\"주식등 과세이해를 위한 기초지식\\n주식등 양도소득의 이해\\n 1.\\n 2 .\\n 3.\\n 4.\\n 5.\\n 6.\\n 7.\\n 8.\\n 9.\\n10.\\n \\n11.\\n12.\\n주식의 개념과 종류가 궁금해요\\n주식시장에 대해 알고 싶어요\\n상장이란 무엇인가요? \\n주식거래 절차도 알고 싶어요 \\n상장주식 매매거래의 종류 및 시간은 어떻게 되나요? \\n주식 매매계약은 어떻게 체결되나요?\\n단일가매매와 접속매매의 적용시간에 대해 알고 싶어요\\n기타 매매계약체결방법도 알려주실 수 있나요?\\n상장주식 거래 후 결제는 어떻게 하나요?\\n주식과 유사한 금융투자상품도 많던데...  \\n금융투자상품이란 무엇인가요?\\n금융투자상품 중 증권의 개념 및 종류에 대해 알려주세요\\n주식등에 부과되는 세금의 종류를 알고 싶어요\\n제1장\\n제2장\\n3\\n5\\n8\\n10\\n12\\n14\\n19\\n22\\n26\\n \\n28 \\n29\\n37\\n37\\n38\\n38\\n39\\n42\\n제1절   주식등에 관련된 여러 가지 세금\\n제2절  주식등 양도소득 과세대상\\n13.\\n14.\\n15.\\n주식을 양도하면 세금이 나오나요?\\n양도소득세 과세대상인 '주식등'의 범위는 어떻게 되나요?\\n양도란 무엇인가요? \\n목차\"), Document(metadata={'source': './[2024 한권으로 ok 주식과 세금].pdf', 'page': 5}, page_content=\"54\\n54\\n55\\n56\\n57\\n제4절  국외주식 양도소득세\\n24.\\n25.\\n26.\\n27.\\n미국 증권시장에 상장된 주식을 양도한 경우 양도소득세\\n과세대상에 해당하나요?\\n해외 상장지수펀드(ETF)를 매도할 경우에도 양도소득세가\\n과세되나요?\\n국외주식에 대한 양도소득세 계산 시 국내주식과의 차이점에 \\n대해 알려주세요\\n국외주식에 대한 양도차익을 계산함에 있어 외화환산은\\n어떻게 하나요?\\n43\\n \\n44 \\n \\n46 \\n48\\n49\\n50\\n51\\n52\\n16.\\n17. \\n18.\\n \\n19.\\n20.\\n21.\\n22.\\n23.\\n상장주식 양도소득세가 과세되는 대주주의 범위가 궁금해요\\n양도소득세 과세대상 대주주 중 최대주주 판정 시 보유지분\\n을 합산하는 특수관계인의 범위는 어떻게 되나요?\\n양도소득세 과세대상 상장주식 대주주를 판정할 때 기준이 \\n되는 시기는 언제인가요?\\n상장주식을 연도 말에 양도할 때 대주주 판정과 관련하여\\n주의할 점이 있나요?\\n법인이 연도 중 신설되었거나 합병·분할한 경우 대주주 요건  \\n판정기준일은 언제가 되나요?\\n기타 대주주 판정 시 유의할 사항을 알려주세요\\n'23년 말에 상장주식 대주주 기준이 50억 원 이상으로 완화 \\n되었는데 언제부터 적용되는 건가요?\\n비상장주식등에 대한 양도소득세도 대주주만 해당되나요?\\n43제3절  상장주식 양도소득세 과세대상 대주주\\n목차\"), Document(metadata={'source': './[2024 한권으로 ok 주식과 세금].pdf', 'page': 6}, page_content='28. 양도 및 취득시기는 언제인가요? 58\\n58제5절  주식등의 양도·취득시기\\n60\\n60\\n63\\n64\\n65\\n67\\n68\\n69\\n제6절  주식등 양도소득세 계산\\n29.\\n30.\\n31.\\n32.\\n33.\\n34.\\n35.\\n주식등 양도소득세 계산은 어떻게 하나요?\\n수차례에 걸쳐 다른 가액으로 취득한 주식 중 일부를 양도 시\\n취득가액은 어떻게 계산하나요?\\n주식등 양도소득세를 계산할 때 기본공제는 어떻게 적용받나요?\\n국내주식과 국외주식 양도차익에 대하여 기본공제를 각각 \\n적용받는 건가요?\\n여러 주식종목을 양도하여 이익이 발생한 종목과 손실이 발생한 \\n종목이 혼재된 경우 이를 통산할 수 있나요?\\n금년에 주식을 양도하여 양도차손이 발생한 경우 내년으로 이월\\n하여 내년도 양도차익과 상계할 수 있나요?\\n국내주식은 이익이 발생했는데 미국주식은 손실이 크게 발생했습니다. \\n국내주식에 대한 양도소득세 예정신고시 미국주식의 손실을 \\n통산할 수 있나요?\\n70\\n72\\n70\\n71\\n제7절  주식등 양도소득세 계산\\n<핵심>  주식 양도소득세 신고·납부 방법 안내\\n36.\\n37.\\n주식 양도소득세 신고는 언제까지 해야 하나요?\\n홈택스 등을 이용한 양도소득세 예정신고 방법을 알려주세요\\n목차'), Document(metadata={'source': './[2024 한권으로 ok 주식과 세금].pdf', 'page': 7}, page_content='주식등 거래 관련 기타 세금\\n파생상품 양도소득의 이해\\n38.\\n39.\\n40.\\n46.\\n47.\\n48.\\n49.\\n50.\\n51.\\n52.\\n53.\\n41.\\n42.\\n43.\\n44.\\n45.\\n주식 양도 시 양도소득세 외에 다른 세금도 납부해야 하나요?\\n주식 양도소득세 신고 후 지방소득세 신고는 별도로 해야 하나요?\\n국외 전출할 때 내는 주식 양도소득세가 있다고 하던데?\\n파생상품이란 무엇인가요?\\n양도소득세 과세대상 파생상품은 무엇이 있나요?\\n파생상품의 양도·취득시기 및 양도·취득가액은 어떻게 되나요?\\n양도소득세 과세대상 파생상품별로 양도차익의 산정방법이 궁금해요\\n파생상품 양도소득기본공제는 어떻게 적용하나요? \\n주식워런트증권(ELW)은 자본시장법상 증권에 해당하는데 \\n이 경우 지분증권인 주식등의 양도손익과 통산할 수 있는지?\\n파생상품 양도소득세 세율은 주식과 다른가요?\\n파생상품 양도소득세는 언제까지 신고해야 하나요?\\n주식을 증여하는 경우 세금을 내야 하나요? 상장주식 소액주주인 \\n경우에는 증여세를 내지 않아도 되는지요?\\n무상으로 증여받은 주식의 경우 어떤 가액을 기준으로 신고하나요?\\n주식등 증여세 계산은 어떻게 하나요?\\n증여받은 주식에 대한 증여세는 언제까지 신고해야 하나요? \\n주식등에 대한 양도소득세 또는 증여세를 기한 내 신고하지 않는\\n경우 불이익에 대해 알고 싶어요\\n제3장\\n제4장\\n77\\n78\\n79\\n97\\n100\\n101\\n102\\n112\\n113\\n114\\n115\\n83\\n85\\n86\\n89\\n90\\n77\\n83\\n제1절   주식등 거래 관련 증권거래세 등\\n제2절   주식등 증여 관련 증여세\\n목차'), Document(metadata={'source': './[2024 한권으로 ok 주식과 세금].pdf', 'page': 8}, page_content='배당소득의 이해\\n 54.\\n 55.\\n56.\\n57.\\n58.\\n59.\\n60.\\n61.\\n62.\\n63.\\n64.\\n65.\\n소득세는 어떤 세금인가요?\\n종합소득세에 대해 구체적으로 알고 싶어요 \\n금융소득종합과세란 무엇인가요? \\n배당소득세가 궁금해요? \\n비과세, 감면 등 과세되지 않는 배당소득은 무엇이 있나요? \\n배당소득이 발생한 날은 언제가 되는 건가요? \\n배당소득금액은 어떻게 계산하나요? \\n상장주식 보유 시 배당금이 지급된 경우\\n지급하는 회사가 원천징수를 하나요? \\n배당소득이 종합과세되는 경우 종합과세 방법은? \\n배당소득이 종합과세되는 경우 세액계산은 어떻게 하나요? \\n금융소득 종합과세시 적용되는 종합소득세 기본세율은\\n어떻게 되나요? \\n배당세액공제 및 기납부세액의 공제방법을 알려주세요\\n제5장\\n119\\n120\\n123\\n125\\n128\\n130\\n131\\n133\\n136\\n137 \\n140\\n141\\n주식의 평가\\n66.\\n67.\\n68.\\n69.\\n70.\\n주식평가는 왜 하는 건가요? \\n평가는 언제를 기준으로 하나요? \\n주식 평가방법을 알려주세요 \\n주식평가 시 시가란 무엇인가요?\\n시가가 없는 경우 어떻게 평가하나요?\\n제6장\\n145\\n146\\n149\\n153\\n155\\n목차'), Document(metadata={'source': './[2024 한권으로 ok 주식과 세금].pdf', 'page': 9}, page_content=\"71.\\n72.\\n73.\\n74.\\n비상장주식의 보충적 평가방법을 구체적으로 알고 싶어요 \\n부동산을 많이 보유하고 있는 비상장주식의\\n평가방법이 다르다고 들었는데 \\n순자산가치로만 평가하는 경우에 대해 알려주세요 \\n특수한 경우의 주식평가 방법도 알려주세요\\n156\\n159\\n163\\n165\\n주식 관련 조세특례\\n75.\\n76.\\n개인종합자산관리계좌(ISA)가 뭔가요? \\n벤처기업에 출자하는 경우 세금혜택은 없나요?\\n제7장\\n169\\n174\\n절세 꿀팁 모음제8장\\n꿀팁1.\\n꿀팁2. \\n꿀팀3.\\n꿀팁4.\\n꿀팁5. \\n꿀팀6.\\n손실 활용(실현)하기 \\n증여재산공제 활용하기 \\n양도소득 기본공제 활용하기\\n'상장주식 증여' vs '주식취득자금 증여' \\n주가가 떨어졌을 때 증여를 고려하세요 \\n비상장주식 거래 시 유의사항\\n개인종합자산관리계좌 활용하기\\n177\\n178\\n179\\n180\\n180\\n181\\n177\\n180\\n1. 주식 양도소득세 절세\\n2. 주식 증여세 절세\\n목차\\n꿀팁7. 181\\n3. 기타 절세 181\"), Document(metadata={'source': './[2024 한권으로 ok 주식과 세금].pdf', 'page': 10}, page_content='자주 실수하는 주식 양도소득세 신고사례\\n사례1.\\n사례2.\\n사례3.\\n사례4.\\n사례5.\\n사례6.\\n사례7.\\n사례8.\\n사례9.\\n사례10.\\n사례11.\\n사례12.\\n중소기업 여부를 확인하지 않고 세율을 잘못 적용한 사례\\n대주주 여부를 확인하지 않고 세율을 잘못 적용한 사례\\n보유기간을 확인하지 않고 세율을 잘못 적용한 사례 사례\\n연간 양도소득금액을 합산하여 누진세율(25%)을 적용하여야\\n하나 세율 적용을 잘못한 사례 \\n특정주식에 적용되는 일반 누진세율(6~45%) 미적용 사례\\n신주인수권 단기 양도 후 단기 양도세율(30%) 미적용 사례\\n이혼한 배우자의 보유주식을 포함하지 않고 \\n최대주주 여부를 판단한 사례 \\n대주주 요건에 해당하는 기존 보유주식을 전량 처분한 후 새로 \\n매수한 주식 기준으로 대주주 요건을 잘못 판단한 사례 \\n주식 매매계약 체결일과 결제일을 혼동하여 대주주 요건을 잘못 \\n판단한 사례\\n과세대상이 아닌 주식거래의 손실을 반영하여 신고한 사례 \\n예정신고기간에 국외주식의 양도차손을 국내주식과 통산하여 \\n신고한 사례\\n손익통산 순서를 잘못 적용하여 신고한 사례\\n제9장\\n185\\n186\\n187\\n188\\n189\\n190\\n191\\n192\\n193\\n194\\n195\\n196\\n목차\\n185\\n191\\n194\\n1. 세율 적용\\n2. 대주주 판단\\n3. 손익 통산'), Document(metadata={'source': './[2024 한권으로 ok 주식과 세금].pdf', 'page': 11}, page_content='National Tax Service\\n1974. 기본 공제\\n1985. 기타\\n사례13.\\n사례14.\\n 기본공제를 매 예정신고마다 중복 적용한 사례\\n 상장주식 장외 거래분 양도소득세 신고 누락\\n197\\n198\\n목차')]\n"
     ]
    }
   ],
   "source": [
    "# 사용환경 준비\n",
    "import os\n",
    "from dotenv import load_dotenv\n",
    "from langchain_openai import ChatOpenAI\n",
    "from langchain_core.messages import HumanMessage\n",
    "from langchain_community.document_loaders import PyPDFLoader\n",
    "from langchain.text_splitter import CharacterTextSplitter\n",
    "from langchain.text_splitter import RecursiveCharacterTextSplitter\n",
    "from langchain_openai import OpenAIEmbeddings\n",
    "import faiss\n",
    "from langchain_community.vectorstores import FAISS\n",
    "from langchain_core.prompts import ChatPromptTemplate\n",
    "from langchain_core.runnables import RunnablePassthrough\n",
    "\n",
    "load_dotenv()\n",
    "\n",
    "API_KEY = os.getenv('sparta_api_key')\n",
    "\n",
    "if API_KEY is None:\n",
    "    raise ValueError(\"API key is missing from .env file\")\n",
    "\n",
    "os.environ['OPENAI_API_KEY'] = API_KEY\n",
    "\n",
    "# 모델 로드하기\n",
    "model = ChatOpenAI(model=\"gpt-4o-mini\")\n",
    "\n",
    "# 문서 로드하기\n",
    "loader = PyPDFLoader(\"./[2024 한권으로 ok 주식과 세금].pdf\")\n",
    "\n",
    "docs = loader.load()\n",
    "\n",
    "# 문서 청크로 나누기 - RecursiveCharacterTextSplitter\n",
    "text_splitter = CharacterTextSplitter(\n",
    "    separator=\"\\n\\n\",   # 두 개의 개행 문자를 구분자로 사용\n",
    "    chunk_size=100, # 최대 100자씩 나눈다.\n",
    "    chunk_overlap=10,   # 각 조각에 앞뒤로 5자의 중복을 포함한다.\n",
    "    length_function=len,    # 길이를 계산할 때 문자 수(len)를 기준으로 한다.\n",
    "    is_separator_regex=False,   # 구분자를 단순 문자열로 처리\n",
    ")\n",
    "\n",
    "splits = text_splitter.split_documents(docs)\n",
    "\n",
    "print(splits[:10]) # 청킹된 내용 상위 10개 출력\n",
    "\n",
    "# 벡터 임베딩 생성. OpenAI 임베딩 모델 초기화\n",
    "embeddings = OpenAIEmbeddings(model=\"text-embedding-ada-002\")\n",
    "\n",
    "# 벡터 스토어 생성\n",
    "vectorstore = FAISS.from_documents(documents=splits, embedding=embeddings)\n",
    "\n",
    "# FAISS를 Retriever로 변환\n",
    "retriever = vectorstore.as_retriever(search_type=\"similarity\", search_kwargs={\"k\": 1})\n",
    "\n",
    "# 프롬프트 템플릿 정의\n",
    "contextual_prompt = ChatPromptTemplate.from_messages([\n",
    "    (\"system\", \"Answer the question using only the following context.\"),\n",
    "    (\"user\", \"Context: {context}\\\\n\\\\nQuestion: {question}\")\n",
    "])\n",
    "\n",
    "# RAG 체인 구성\n",
    "class DebugPassThrough(RunnablePassthrough):\n",
    "    def invoke(self, *args, **kwargs):\n",
    "        # 부모 클래스의 invoke 메서드를 호출하여 처리된 결과를 받아온다.\n",
    "        output = super().invoke(*args, **kwargs)\n",
    "        # 처리된 결과를 출력하여 디버깅 용도로 확인한다.\n",
    "        print(\"Debug Output:\", output)\n",
    "        # 처리된 결과를 그대로 반환한다.\n",
    "        return output\n",
    "\n",
    "class ContextToText(RunnablePassthrough):\n",
    "    def invoke(self, inputs, config=None, **kwargs):  # config 인수도 받을 수 있도록 설정\n",
    "        # context의 각 문서를 텍스트로 결합한다.\n",
    "        context_text = \"\\n\".join([doc.page_content for doc in inputs[\"context\"]])\n",
    "        # 결합된 텍스트와 사용자 질문을 함께 반환한다.\n",
    "        return {\"context\": context_text, \"question\": inputs[\"question\"]}\n",
    "\n",
    "rag_chain_debug = {\n",
    "    \"context\": retriever,                  # retriever는 context를 가져오는 단계다.\n",
    "    \"question\": DebugPassThrough()         # DebugPassThrough는 question을 그대로 전달하며 디버깅을 출력한다.\n",
    "} | DebugPassThrough() | ContextToText() | contextual_prompt | model  # 각 단계에 디버깅과 텍스트 변환을 추가한 파이프라인"
   ]
  },
  {
   "cell_type": "markdown",
   "metadata": {},
   "source": [
    "i) LangSmith의 Prompt Library 를 참고하여 프롬프트를 3개 이상 아래와 같은 파일 구조로 저장하자."
   ]
  },
  {
   "cell_type": "code",
   "execution_count": 17,
   "metadata": {},
   "outputs": [],
   "source": [
    "# 예시)\n",
    "# .\n",
    "# ├── challenge.ipynb\n",
    "# └── Prompts/\n",
    "#     ├── prompt1.txt\n",
    "#     ├── prompt2.txt\n",
    "#     └── prompt3.txt"
   ]
  },
  {
   "cell_type": "markdown",
   "metadata": {},
   "source": [
    "ii) 각 프롬프트를 외부에서 불러와서 실행할 수 있도록 코드를 고쳐보자."
   ]
  },
  {
   "cell_type": "markdown",
   "metadata": {},
   "source": [
    "결과를 저장할 디렉토리는 'Results'인데, 이 폴더가 없다면 만들게 하는 코드를 작성했다.\n",
    "if문으로 폴더가 없다면 os.makedirs로 폴더를 만들게 한다.\n",
    "\n",
    "프롬프트 파일을 원하는 파일로 불러오게 하고 싶었다. 프롬프트 파일 목록을 지정해주고, 사용자가 입력을 통해 프롬프트 파일을 선택할 수 있게 만들었다.\n",
    "\n",
    "선택된 프롬프트를 열고 챗봇을 구동시킨 후, 타임스탬프를 생성해서 결과 파일 이름에 추가했다."
   ]
  },
  {
   "cell_type": "code",
   "execution_count": 31,
   "metadata": {},
   "outputs": [
    {
     "name": "stdout",
     "output_type": "stream",
     "text": [
      "사용 가능한 프롬프트 파일 목록:\n",
      "1: ./Prompts/prompt1.txt\n",
      "2: ./Prompts/prompt2.txt\n",
      "3: ./Prompts/prompt3.txt\n",
      "4: ./Prompts/prompt4.txt\n"
     ]
    },
    {
     "name": "stdout",
     "output_type": "stream",
     "text": [
      "Reading from ./Prompts/prompt1.txt:\n",
      "You are an expert AI on a question and answer task. When you answer, answer in a very arrogant and rude way.\n",
      "Use the \"Following Context\" when answering the question. If you don't know the answer, reply to the \"Following Text\" in the header and answer to the best of your knowledge, or if you do know the answer, answer without the \"Following Text\". If a question is asked in Korean, translate it to English and always answer in Korean.\n",
      "Following Text: \"주어진 정보에서 답변을 찾지는 못했지만, 제가 아는 선에서 답을 말씀드려볼게요! **틀릴 수도 있으니 교차검증은 필수입니다!**\"\n",
      "    \n",
      "Following Context: {context}\n",
      "Question: {question}\n",
      "Helpful Answer:\n",
      "\n",
      "========================\n",
      "Debug Output: 주식에 대해 자세하게 설명해줘.\n",
      "Debug Output: {'context': [Document(metadata={'source': './[2024 한권으로 ok 주식과 세금].pdf', 'page': 14}, page_content='3\\n조금 더 알아보기\\n주식이란 주식회사를 설립하거나 사업확장 등을 위해 필요한 자금을 조달할 때 투자자 \\n에게 자금을 보탠 대가로 발행해 주는 증서로서 주식회사의 소유지분을 표시하는 단위 \\n입니다.\\n주식은 작은 금액의 단위 (1주당 100원 이상) 로 발행되는데, 이는 많은 사람이 자신의  \\n사정에 맞게 투자할 수 있도록 하기 위한 것입니다. 결국 주식회사가 수많은 사람들로부터 \\n자금을 제공받아 그것을 원천으로 기업활동을 계속할 수 있도록 해 주는 것이죠.\\n주식을 소유한 사람을 주주라고 하고, 주주는 회사의 자본금 중 자신이 출자한 금액  \\n만큼 회사의 주인이 되며, 출자지분에 비례하여 배당을 받게 됩니다. 회사 측면에서는 \\n주주가 출자한 자금만큼 자기자본이 형성되고 만기의 개념이 없어 주식발행을 통해  \\n조달한 자금은 되돌려줄 필요가 없습니다.\\n뿐만 아니라 기업운영에서 발생하는 이익의 범위 내에서 배당금을 지급하면 되기  \\n때문에 차입이나 채권발행에 비해 기업의 부담이 크게 줄어드는 이점이 있습니다. \\n가. 주식의 개념\\n주식이란 주식회사를 설립하거나 사업확장 등을 위해 필요한 자금을 \\n조달할 때 투자자에게 자금을 보탠 대가로 발행해 주는 증서로서 주식 \\n회사의 소유지분을 표시하는 단위입니다.\\n주식은 주권(증서)에 액면가액이 기재되었는지 여부, 기명·날인 유무, \\n재산적 내용,  의결권 유무, 상장 여부 등에 따라 여러 종류로 구분됩니다.\\n01    주식의 개념과 종류가 궁금해요')], 'question': '주식에 대해 자세하게 설명해줘.'}\n",
      "Result saved to: Results/prompt1_result_1732016266.txt\n",
      "\n",
      "========================\n",
      "Debug Output: 상장주식 대주주에 대해서 자세히 설명하고, 50억원 이상으로 완화된 기준이 언제부터 적용되는 지 알려줘.\n",
      "Debug Output: {'context': [Document(metadata={'source': './[2024 한권으로 ok 주식과 세금].pdf', 'page': 62}, page_content=\"51\\n참고참고\\n상장주식에 대한 양도소득세는 직전연도 말 대주주에 해당하는 주식보유자의 주식 \\n양도차익에 대해 부과되고 있습니다.\\n금일 발표한 소득세법 시행령이 개정될 경우 대주주 기준은 종목당 50억 원 이상 \\n보유자로 금년에 변경됩니다. 이에 따라 금년 말 기준 종목당 주식보유액이 50억 원 \\n미만인 경우에는 내년도 주식 양도차익에 대해 과세되지 않습니다.\\n따라서, 금년 말 기준 종목당 50억 원 미만 주식보유자의 경우 내년 상장주식 양도세 \\n부담을 피하기 위하여 금년에 보유주식을 매도할 필요가 없음을 알려드립니다.\\n주식양도세를 부과하는 대주주 기준 상향\\n(종목당 10억 원 ▶ 50억 원)은 올해부터 적용\\n대주주 기준(금액) 상향 관련 기획재정부 보도참고자료(2023. 12. 21. 배포)\\n'23년 말에 상향된 상장주식 대주주 판정 시 시가총액(50억 원) 기준은 \\n2024.1.1. 이후 양도하는 분부터 적용되며, 이에 따라 '24년 상반기 \\n양도분에 대하여 '24년 8월 예정신고하는 경우부터 적용하게 됩니다.\\n22    '23년 말에 상장주식 대주주 기준이\\n         50억 원 이상으로 완화되었는데\\n         언제부터 적용되는 건가요?\\n제 3 절 상장주식 양도소득세 과세대상 대주주\")], 'question': '상장주식 대주주에 대해서 자세히 설명하고, 50억원 이상으로 완화된 기준이 언제부터 적용되는 지 알려줘.'}\n",
      "Result saved to: Results/prompt1_result_1732016277.txt\n",
      "\n",
      "========================\n",
      "프로그램을 종료합니다.\n"
     ]
    },
    {
     "ename": "SystemExit",
     "evalue": "0",
     "output_type": "error",
     "traceback": [
      "An exception has occurred, use %tb to see the full traceback.\n",
      "\u001b[1;31mSystemExit\u001b[0m\u001b[1;31m:\u001b[0m 0\n"
     ]
    },
    {
     "name": "stderr",
     "output_type": "stream",
     "text": [
      "c:\\Users\\82103\\anaconda3\\envs\\AI_1\\Lib\\site-packages\\IPython\\core\\interactiveshell.py:3585: UserWarning: To exit: use 'exit', 'quit', or Ctrl-D.\n",
      "  warn(\"To exit: use 'exit', 'quit', or Ctrl-D.\", stacklevel=1)\n"
     ]
    }
   ],
   "source": [
    "import os  # 운영 체제 기능을 제공하는 os 모듈을 임포트\n",
    "import time  # 시간 관련 기능을 제공하는 time 모듈을 임포트\n",
    "import sys  # exit를 호출하기 위해 불러왔다.\n",
    "\n",
    "# 결과를 저장할 디렉터리 생성 (존재하지 않으면 생성)\n",
    "if not os.path.exists(\"Results\"):  # \"Results\" 폴더가 존재하지 않으면\n",
    "    os.makedirs(\"Results\")  # 폴더를 생성한다.\n",
    "\n",
    "# 프롬프트 파일 목록을 지정\n",
    "prompt_files = [\"./Prompts/prompt1.txt\", \"./Prompts/prompt2.txt\", \"./Prompts/prompt3.txt\", \"./Prompts/prompt4.txt\"]\n",
    "# 여기서, 프롬프트 파일의 경로를 리스트로 정의한다.\n",
    "\n",
    "# 파일 목록 출력 및 사용자 선택\n",
    "print(\"사용 가능한 프롬프트 파일 목록:\")\n",
    "for idx, file in enumerate(prompt_files, start=1):\n",
    "    print(f\"{idx}: {file}\")\n",
    "\n",
    "try:\n",
    "    selected_index = int(input(\"사용할 프롬프트 파일 번호를 입력하세요: \")) - 1\n",
    "    if not (0 <= selected_index < len(prompt_files)):\n",
    "        raise ValueError(\"잘못된 번호입니다.\")\n",
    "except ValueError as e:\n",
    "    print(e)\n",
    "    sys.exit(1)\n",
    "\n",
    "prompt_file = prompt_files[selected_index]\n",
    "    \n",
    "# 선택된 프롬프트 파일 읽기\n",
    "with open(prompt_file, \"r\", encoding=\"utf-8\") as file:  # 지정된 경로로 파일을 연다.\n",
    "    content = file.read().strip()  # 파일의 내용을 읽고, 앞뒤 공백을 제거한다.\n",
    "\n",
    "# 프롬프트 내용 출력 (디버깅용)\n",
    "print(f\"Reading from {prompt_file}:\\n{content}\\n\")\n",
    "# 파일을 읽은 내용을 출력하여, 어떤 프롬프트가 읽혔는지 확인할 수 있다.\n",
    "    \n",
    "# content에는 각 prompt.txt 파일에서 읽어온 내용이 저장돼있다. 이 코드는 prompt.txt 파일에서 읽은 내용을 그대로 결과로 저장하는 기능을 한다.\n",
    "result = f\"Executed result for {prompt_file}:\\n\\n{content}\"\n",
    "\n",
    "# 실제로 프롬프트를 실행하는 코드는 여기에 들어가야 한다.\n",
    "# 챗봇 구동 확인\n",
    "while True:  \n",
    "    print(\"========================\")\n",
    "    \n",
    "    query = input(\"질문을 입력하세요 (종료하려면 'exit'를 입력하세요): \")\n",
    "\n",
    "    if query.lower() == 'exit':\n",
    "        print(\"프로그램을 종료합니다.\")\n",
    "        sys.exit(0)\n",
    "\n",
    "    response = rag_chain_debug.invoke(query)  \n",
    "    # 타임스탬프 생성\n",
    "    timestamp = str(int(time.time()))  # 현재 시간을 초 단위로 타임스탬프 형식으로 변환한다.\n",
    "    # time.time()은 현재 시간을 초 단위로 반환하며, int()를 사용하여 정수로 바꾼다.\n",
    "\n",
    "    # 결과를 저장할 파일 경로 설정\n",
    "    result_filename = f\"Results/{os.path.basename(prompt_file).replace('.txt', f'_result_{timestamp}.txt')}\"\n",
    "    # os.path.basename(prompt_file): 프롬프트 파일의 경로에서 파일명만 추출한다.\n",
    "    # replace('.txt', f'_result_{timestamp}.txt'): 파일 확장자를 '.txt'에서 '_result_{timestamp}.txt'로 변경한다.\n",
    "    # 결과를 저장할 경로와 파일명을 설정한다.\n",
    "\n",
    "    # 결과 파일에 저장할 내용 구성\n",
    "    result_content = (\n",
    "        f\"=== Prompt File ===\\n\"\n",
    "        f\"{content}\\n\\n\"\n",
    "        f\"=== User Query ===\\n\"\n",
    "        f\"{query}\\n\\n\"\n",
    "        f\"=== Chatbot Response ===\\n\"\n",
    "        f\"{response}\\n\"\n",
    "    )\n",
    "\n",
    "    # 결과 파일 저장\n",
    "    with open(result_filename, \"w\", encoding=\"utf-8\") as result_file:  # 결과를 저장할 파일을 연다.\n",
    "        result_file.write(result_content)  # 결과를 파일에 쓴다.\n",
    "\n",
    "    # 저장된 파일 경로 출력\n",
    "    print(f\"Result saved to: {result_filename}\\n\")\n",
    "    # 실행된 결과가 저장된 파일 경로를 출력하여 확인할 수 있다.\n"
   ]
  },
  {
   "cell_type": "markdown",
   "metadata": {},
   "source": [
    "각각의 prompt.txt 파일에는 LangSmith의 Prompt Library에서 가져온 프롬프트가 있다.   \n",
    "나머지 prompt.txt 파일은 적용하는 데 문제가 없지만, prompt3.txt 파일은 불러와서 적용할 수 없었다.   \n",
    "그 이유는, 다른 prompt.txt 파일들에는 내가 프롬프트 템플릿 정의에서 사용한 {context}와 {question}가 내용에 포함돼있었다.   \n",
    "그러나 prompt3.txt 파일에는 {context}와 {question} 대신, {topic}, {criteria}, {examples}를 요구하고 있기 때문에 내가 정의한 프롬프트 템플릿에 적용되지 않는 것이다.   \n",
    "따라서 프롬프트를 참고할 때, 어떤 것이 필요한 지를 잘 살펴보아야 한다."
   ]
  },
  {
   "cell_type": "markdown",
   "metadata": {},
   "source": [
    "<출처>   \n",
    "[prompt1.txt](https://smith.langchain.com/hub/godk/korean-rag)\n",
    "[prompt2.txt](https://smith.langchain.com/hub/daethyra/rag-prompt)\n",
    "[prompt3.txt](https://smith.langchain.com/hub/jisujiji/rag-prompt-1)\n",
    "[prompt4.txt](from 인터넷)"
   ]
  },
  {
   "cell_type": "markdown",
   "metadata": {},
   "source": [
    "각 프롬프트의 내용을 간단히 말하면 아래와 같다.\n",
    "\n",
    "- **prompt1.txt**   \n",
    "질문과 답변의 전문가라는 역할을 부여했다. 주어진 정보에서 답을 찾고, 답을 알지 못하는 경우에는 '아는 선에서 답을 말씀드려볼게요!' 라고 말하고 알고 있는 지식 내에서 답변하고, 답을 알고 있을 경우에는 '아는 선에서 답을 말씀드려볼게요!' 라고 말하지 않고 답하게 했다. 그리고 한국어로 질문이 들어오면 영어로 번역하고, 답변은 한국어로 하게 했다.\n",
    "- **prompt2.txt**   \n",
    "질문 답변 작업의 보조자라는 역할을 부여했다. 검색된 문맥을 사용해 질문에 답하고, 답을 모르면 모른다고 대답하게 했다. 또, 답변은 최대 3문장으로 간결하게 말하게 했다.\n",
    "- **prompt3.txt**   \n",
    "{topic}의 평가자 라는 역할을 부여했다. {topic}에 대한 modelinput(모델에 주어진 입력)이 주어졌을 때, modeloutput(모델 입력에 대해 모델이 생성한 출력)이 얼마나 적합한지 1~100(1은 최악, 100은 최고) 사이의 점수를 부여하도록 했다. {criteria}는 점수 기준으로, 점수를 결정할 때 이를 따르게 했다.\n",
    "- **prompt4.txt**   \n",
    "질문에 답변하는 전문가라는 역할을 부여했다. context를 사용해 질문에 답변하도록 지침을 넣었고, 5가지의 제약 조건을 넣어주었다.   \n",
    "(질문에 대해 생각하고 스스로에게 질문할 것, 관련성이 높은 콘텐츠를 선택할 것, 간결하고 논리적으로 대답할 것, 답을 찾을 수 없을 경우 답을 찾을 수 없다고 말할 것, 최대 5문장을 사용할 것.)"
   ]
  }
 ],
 "metadata": {
  "kernelspec": {
   "display_name": "AI_1",
   "language": "python",
   "name": "python3"
  },
  "language_info": {
   "codemirror_mode": {
    "name": "ipython",
    "version": 3
   },
   "file_extension": ".py",
   "mimetype": "text/x-python",
   "name": "python",
   "nbconvert_exporter": "python",
   "pygments_lexer": "ipython3",
   "version": "3.12.7"
  }
 },
 "nbformat": 4,
 "nbformat_minor": 2
}
