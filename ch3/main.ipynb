{
 "cells": [
  {
   "cell_type": "markdown",
   "metadata": {},
   "source": [
    "# 필수 개인 과제\n",
    "- LLM 과 RAG를 활용하여 AI 챗봇을 구현해보자."
   ]
  },
  {
   "cell_type": "markdown",
   "metadata": {},
   "source": [
    "### 필요한 라이브러리들을 불러온다."
   ]
  },
  {
   "cell_type": "code",
   "execution_count": 49,
   "metadata": {},
   "outputs": [],
   "source": [
    "import os   # 운영체제와 상호작용하게 해주는 표준 라이브러리\n",
    "from dotenv import load_dotenv  # .env 파일에서 환경 변수를 불러올 수 있게 해주는 라이브러리\n",
    "\n",
    "from langchain_openai import ChatOpenAI # LangChain 라이브러리에서 OpenAI의 챗봇 모델을 사용하기 위한 코드. 즉, OpenAI의 챗 모델을 사용하여 언어 모델을 초기화하기 위한 코드\n",
    "from langchain_core.messages import HumanMessage    # LangChain 라이브러리에서 HumanMessage 클래스를 임포트하는 코드\n",
    "\n",
    "from langchain_community.document_loaders import PyPDFLoader  # LangChain 라이브러리에서 PDF 파일을 로드하는 데 사용하는 코드\n",
    "\n",
    "from langchain.text_splitter import CharacterTextSplitter   # 텍스트를 여러 덩어리로 분할하는 기능\n",
    "from langchain.text_splitter import RecursiveCharacterTextSplitter  # 긴 텍스트를 의미가 끊기지 않도록 일정한 길이의 조각으로 나누는 역할\n",
    "\n",
    "from langchain_openai import OpenAIEmbeddings   # langchain_openai 라이브러리에서 OpenAIEmbeddings 클래스를 불러온다.\n",
    "\n",
    "import faiss    # 벡터 검색을 위한 라이브러리\n",
    "from langchain_community.vectorstores import FAISS  # # langchain_community에서 FAISS 벡터스토어 클래스를 임포트한다.\n",
    "\n",
    "from langchain_core.prompts import ChatPromptTemplate\n",
    "from langchain_core.runnables import RunnablePassthrough\n",
    "# LangChain의 ChatPromptTemplate와 RunnablePassthrough 클래스를 임포트한다."
   ]
  },
  {
   "cell_type": "markdown",
   "metadata": {},
   "source": [
    "_**HumanMessage**_ 클래스는 LangChain의 메시지 처리 시스템에서 사용자 메시지를 나타내는 데 사용된다.   \n",
    "즉, LangChain에서 인간의 메시지를 모델로 전달하는 데 필요한 형태로 포맷팅해준다.   \n",
    "LangChain은 대화형 AI 시스템을 구축할 때 여러 종류의 메시지를 처리하는데, HumanMessage는 사람이 보낸 메시지를 모델에 전달할 때 사용된다."
   ]
  },
  {
   "cell_type": "markdown",
   "metadata": {},
   "source": [
    "_**PyPDFLoader**_ 는 PDF 파일을 로드하여 텍스트를 추출하는 클래스다.   \n",
    "PyPDFLoader를 langchain.document_loaders에서 임포트하는 것이 더 이상 권장되지 않기 때문에  \n",
    "**langchain_community.document_loaders**에서 임포트해야 한다."
   ]
  },
  {
   "cell_type": "markdown",
   "metadata": {},
   "source": [
    "_**FAISS**_ (Facebook AI Similarity Search)는 고속 유사도 검색을 위한 라이브러리다. 주로 벡터 데이터베이스에서 빠르게 유사한 항목을 검색하는 데 사용된다.   \n",
    "_**langchain_community.vectorstores**_ 는 Langchain의 벡터스토어 모듈로, 다양한 벡터 데이터베이스에 데이터를 저장하고 검색할 수 있는 기능을 제공한다. 여기서는 FAISS 벡터스토어를 사용하여 문서들을 벡터화하고 저장하려고 하고 있다."
   ]
  },
  {
   "cell_type": "markdown",
   "metadata": {},
   "source": [
    "## 1. 사용환경 준비"
   ]
  },
  {
   "cell_type": "code",
   "execution_count": 50,
   "metadata": {},
   "outputs": [
    {
     "data": {
      "text/plain": [
       "True"
      ]
     },
     "execution_count": 50,
     "metadata": {},
     "output_type": "execute_result"
    }
   ],
   "source": [
    "# .env 파일 로드\n",
    "load_dotenv()   # .env 파일을 로드하여 환경 변수들을 설정한다."
   ]
  },
  {
   "cell_type": "code",
   "execution_count": 51,
   "metadata": {},
   "outputs": [],
   "source": [
    "# .env 파일에서 api 키 가져오기\n",
    "API_KEY = os.getenv('sparta_api_key')"
   ]
  },
  {
   "cell_type": "markdown",
   "metadata": {},
   "source": [
    "_**os.getenv**_ 는 환경 변수에서 값을 가져오는 역할을 한다. 여기서는 api 키 값을 가져왔다.  \n",
    "즉, .env 파일에 저장된 'sparta_api_key'라는 환경 변수의 값을 가져왔다."
   ]
  },
  {
   "cell_type": "code",
   "execution_count": 52,
   "metadata": {},
   "outputs": [],
   "source": [
    "# API 키가 잘 로드되었는지 확인\n",
    "if API_KEY is None:\n",
    "    raise ValueError(\"API key is missing from .env file\")\n",
    "# print(API_KEY)"
   ]
  },
  {
   "cell_type": "markdown",
   "metadata": {},
   "source": [
    "_**print(API_KEY)**_ 를 통해 API_KEY를 직접 확인해볼 수도 있다."
   ]
  },
  {
   "cell_type": "code",
   "execution_count": 53,
   "metadata": {},
   "outputs": [],
   "source": [
    "# 환경 변수에 API 키 설정\n",
    "os.environ['OPENAI_API_KEY'] = API_KEY"
   ]
  },
  {
   "cell_type": "markdown",
   "metadata": {},
   "source": [
    "이렇게 설정하면 openai 라이브러리가 환경 변수를 사용한다.  \n",
    "openai.api_key = API_KEY ==> 이건 옛날 버전이니 위의 코드를 사용하자.  \n",
    "이제 OpenAI 라이브러리가 자동으로 환경 변수를 사용하여 API 키를 설정한다.  \n",
    "ChatOpenAI 모델을 초기화 할 때 API 키를 별도로 전달할 필요가 없다."
   ]
  },
  {
   "cell_type": "markdown",
   "metadata": {},
   "source": [
    "```python\n",
    "import os\n",
    "from getpass import getpass\n",
    "os.environ[\"OPENAI_API_KEY\"] = getpass(\"OpenAI API key 입력: \")\n",
    "```\n",
    "이 코드를 통해 api key가 잘 작동하는 지 확인할 수도 있다."
   ]
  },
  {
   "cell_type": "markdown",
   "metadata": {},
   "source": [
    "## 2. 모델 로드하기"
   ]
  },
  {
   "cell_type": "code",
   "execution_count": 54,
   "metadata": {},
   "outputs": [],
   "source": [
    "# 모델 초기화\n",
    "model = ChatOpenAI(model=\"gpt-4o-mini\") # ChatOpenAI 객체를 초기화하여 사용할 모델을 설정한다."
   ]
  },
  {
   "cell_type": "markdown",
   "metadata": {},
   "source": [
    "## 3. 문서 로드하기"
   ]
  },
  {
   "cell_type": "code",
   "execution_count": 55,
   "metadata": {},
   "outputs": [],
   "source": [
    "# PyPDFLoader 인스턴스를 생성하고 PDF 파일을 로드할 준비를 한다. 파일의 경로 입력\n",
    "loader = PyPDFLoader(\"./[2024 한권으로 ok 주식과 세금].pdf\")"
   ]
  },
  {
   "cell_type": "code",
   "execution_count": 56,
   "metadata": {},
   "outputs": [],
   "source": [
    "# PDF에서 텍스트 추출. 페이지 별 문서 로드\n",
    "docs = loader.load()    # loader.load()를 호출하여 PDF 파일의 텍스트를 페이지별로 불러온다."
   ]
  },
  {
   "cell_type": "markdown",
   "metadata": {},
   "source": [
    "아래 코드를 통해 추출된 텍스트를 확인해볼 수 있다.\n",
    "```python\n",
    "for doc in docs:\n",
    "    print(doc)\n",
    "```"
   ]
  },
  {
   "cell_type": "markdown",
   "metadata": {},
   "source": [
    "## 4. 문서 청크로 나누기"
   ]
  },
  {
   "cell_type": "markdown",
   "metadata": {},
   "source": [
    "1. CharacterTextSplitter"
   ]
  },
  {
   "cell_type": "code",
   "execution_count": 57,
   "metadata": {},
   "outputs": [
    {
     "name": "stdout",
     "output_type": "stream",
     "text": [
      "[Document(metadata={'source': './[2024 한권으로 ok 주식과 세금].pdf', 'page': 2}, page_content='지난해 말 국내 상장법인 주식을 보유한 개인 투자자가 1,400만명을 넘어서는 등  \\n국민들의 주식시장에 대한 관심이 크게 증가하였습니다.\\n최근 일반 국민들의 주식투자에 대한 관심이 크게 증가했음에도 불구하고, 주식 투자  \\n관련 세금문제 등 궁금한 사항에 대하여 도움을 줄 수 있는 안내책자 등은 시중에서  \\n쉽게 찾아보기 어려운 게 현실입니다.\\n이에 국세청에서는 주식 관련 각종 세금에 대한 납세자들의 이해를 높이고 납세의무  \\n이행에 도움이 될 수 있도록 「주식과 세금」 책자를 처음으로 제작·발간하게 되었습니다.\\n이번에 새롭게 출간하는 ‘주식과 세금’ 책자는 주식거래의 기초상식과 주식의 취득  \\n부터 보유 및 처분시까지 단계별 세금문제를 총 76개의 문답형식으로 구성하는 한편, \\n인포그래픽 등을 적극 활용하여 가독성을 제고하였으며, 구체적인 절세 꿀팁 및 자주 \\n발생하는 실수 사례 등을 추가하여 활용성도 강화하였습니다.\\n모쪼록, 이 책자가 주식등 관련 납세자들의 성실한 납세의무 이행에 기여할 수 있기를\\n기대합니다.\\n2024.  5\\n국세청 자산과세국장\\n머리말'), Document(metadata={'source': './[2024 한권으로 ok 주식과 세금].pdf', 'page': 3}, page_content='본 책자에 수록된 내용은 세법에서 규정하고 있는 내용을 알기 쉽게 요약하여 서술한\\n것으로 모든 법령규정을 담고 있지는 않습니다.\\n또한, 법령이 개정되거나 법령의 해석이 변경되어 본 책자의 내용과 다른 경우가 발생\\n할 수 있으므로 실제 사안에 적용하는 경우 반드시 관련 법령과 해석 등을 충분히 확인\\n하시기 바랍니다.\\n본 책자는 발간일 현재 개정된 법령 등을 기준으로 작성되었습니다. 다만, 시행이  \\n유예된 법령 등은 반영되어 있지 않습니다.\\n본 책자에 표기된 세율은 지방소득세를 포함하지 않은 세율이며, 법령의 표기방식은  \\n일부 아래와 같이 간소화하여 표기하였습니다.\\n본 자료는 주식을 거래할 때 과세되는 세금에 대하여 납세자의 개략적인 이해를 돕기 \\n위해 일반적인 사항 위주로 수록하였으며, 개별사안에 대해 세법을 적용하는 경우 관련 \\n법령에 대한 구체적인 검토가 필요합니다.\\n일러두기\\n법령명법령명 표기 방식표기 방식\\n국세기본법\\n소득세법\\n소득세법 시행령\\n소득세법 시행규칙\\n상속세 및 증여세법\\n상속세 및 증여세법 시행령\\n상속세 및 증여세법 시행규칙\\n상속세 및 증여세법 기본통칙\\n자본시장과 금융투자업에 관한 법률\\n국기법\\n소득법\\n소득령\\n소득칙\\n상증법\\n상증령\\n상증칙\\n상증통\\n자본시장법'), Document(metadata={'source': './[2024 한권으로 ok 주식과 세금].pdf', 'page': 4}, page_content=\"주식등 과세이해를 위한 기초지식\\n주식등 양도소득의 이해\\n 1.\\n 2 .\\n 3.\\n 4.\\n 5.\\n 6.\\n 7.\\n 8.\\n 9.\\n10.\\n \\n11.\\n12.\\n주식의 개념과 종류가 궁금해요\\n주식시장에 대해 알고 싶어요\\n상장이란 무엇인가요? \\n주식거래 절차도 알고 싶어요 \\n상장주식 매매거래의 종류 및 시간은 어떻게 되나요? \\n주식 매매계약은 어떻게 체결되나요?\\n단일가매매와 접속매매의 적용시간에 대해 알고 싶어요\\n기타 매매계약체결방법도 알려주실 수 있나요?\\n상장주식 거래 후 결제는 어떻게 하나요?\\n주식과 유사한 금융투자상품도 많던데...  \\n금융투자상품이란 무엇인가요?\\n금융투자상품 중 증권의 개념 및 종류에 대해 알려주세요\\n주식등에 부과되는 세금의 종류를 알고 싶어요\\n제1장\\n제2장\\n3\\n5\\n8\\n10\\n12\\n14\\n19\\n22\\n26\\n \\n28 \\n29\\n37\\n37\\n38\\n38\\n39\\n42\\n제1절   주식등에 관련된 여러 가지 세금\\n제2절  주식등 양도소득 과세대상\\n13.\\n14.\\n15.\\n주식을 양도하면 세금이 나오나요?\\n양도소득세 과세대상인 '주식등'의 범위는 어떻게 되나요?\\n양도란 무엇인가요? \\n목차\"), Document(metadata={'source': './[2024 한권으로 ok 주식과 세금].pdf', 'page': 5}, page_content=\"54\\n54\\n55\\n56\\n57\\n제4절  국외주식 양도소득세\\n24.\\n25.\\n26.\\n27.\\n미국 증권시장에 상장된 주식을 양도한 경우 양도소득세\\n과세대상에 해당하나요?\\n해외 상장지수펀드(ETF)를 매도할 경우에도 양도소득세가\\n과세되나요?\\n국외주식에 대한 양도소득세 계산 시 국내주식과의 차이점에 \\n대해 알려주세요\\n국외주식에 대한 양도차익을 계산함에 있어 외화환산은\\n어떻게 하나요?\\n43\\n \\n44 \\n \\n46 \\n48\\n49\\n50\\n51\\n52\\n16.\\n17. \\n18.\\n \\n19.\\n20.\\n21.\\n22.\\n23.\\n상장주식 양도소득세가 과세되는 대주주의 범위가 궁금해요\\n양도소득세 과세대상 대주주 중 최대주주 판정 시 보유지분\\n을 합산하는 특수관계인의 범위는 어떻게 되나요?\\n양도소득세 과세대상 상장주식 대주주를 판정할 때 기준이 \\n되는 시기는 언제인가요?\\n상장주식을 연도 말에 양도할 때 대주주 판정과 관련하여\\n주의할 점이 있나요?\\n법인이 연도 중 신설되었거나 합병·분할한 경우 대주주 요건  \\n판정기준일은 언제가 되나요?\\n기타 대주주 판정 시 유의할 사항을 알려주세요\\n'23년 말에 상장주식 대주주 기준이 50억 원 이상으로 완화 \\n되었는데 언제부터 적용되는 건가요?\\n비상장주식등에 대한 양도소득세도 대주주만 해당되나요?\\n43제3절  상장주식 양도소득세 과세대상 대주주\\n목차\"), Document(metadata={'source': './[2024 한권으로 ok 주식과 세금].pdf', 'page': 6}, page_content='28. 양도 및 취득시기는 언제인가요? 58\\n58제5절  주식등의 양도·취득시기\\n60\\n60\\n63\\n64\\n65\\n67\\n68\\n69\\n제6절  주식등 양도소득세 계산\\n29.\\n30.\\n31.\\n32.\\n33.\\n34.\\n35.\\n주식등 양도소득세 계산은 어떻게 하나요?\\n수차례에 걸쳐 다른 가액으로 취득한 주식 중 일부를 양도 시\\n취득가액은 어떻게 계산하나요?\\n주식등 양도소득세를 계산할 때 기본공제는 어떻게 적용받나요?\\n국내주식과 국외주식 양도차익에 대하여 기본공제를 각각 \\n적용받는 건가요?\\n여러 주식종목을 양도하여 이익이 발생한 종목과 손실이 발생한 \\n종목이 혼재된 경우 이를 통산할 수 있나요?\\n금년에 주식을 양도하여 양도차손이 발생한 경우 내년으로 이월\\n하여 내년도 양도차익과 상계할 수 있나요?\\n국내주식은 이익이 발생했는데 미국주식은 손실이 크게 발생했습니다. \\n국내주식에 대한 양도소득세 예정신고시 미국주식의 손실을 \\n통산할 수 있나요?\\n70\\n72\\n70\\n71\\n제7절  주식등 양도소득세 계산\\n<핵심>  주식 양도소득세 신고·납부 방법 안내\\n36.\\n37.\\n주식 양도소득세 신고는 언제까지 해야 하나요?\\n홈택스 등을 이용한 양도소득세 예정신고 방법을 알려주세요\\n목차'), Document(metadata={'source': './[2024 한권으로 ok 주식과 세금].pdf', 'page': 7}, page_content='주식등 거래 관련 기타 세금\\n파생상품 양도소득의 이해\\n38.\\n39.\\n40.\\n46.\\n47.\\n48.\\n49.\\n50.\\n51.\\n52.\\n53.\\n41.\\n42.\\n43.\\n44.\\n45.\\n주식 양도 시 양도소득세 외에 다른 세금도 납부해야 하나요?\\n주식 양도소득세 신고 후 지방소득세 신고는 별도로 해야 하나요?\\n국외 전출할 때 내는 주식 양도소득세가 있다고 하던데?\\n파생상품이란 무엇인가요?\\n양도소득세 과세대상 파생상품은 무엇이 있나요?\\n파생상품의 양도·취득시기 및 양도·취득가액은 어떻게 되나요?\\n양도소득세 과세대상 파생상품별로 양도차익의 산정방법이 궁금해요\\n파생상품 양도소득기본공제는 어떻게 적용하나요? \\n주식워런트증권(ELW)은 자본시장법상 증권에 해당하는데 \\n이 경우 지분증권인 주식등의 양도손익과 통산할 수 있는지?\\n파생상품 양도소득세 세율은 주식과 다른가요?\\n파생상품 양도소득세는 언제까지 신고해야 하나요?\\n주식을 증여하는 경우 세금을 내야 하나요? 상장주식 소액주주인 \\n경우에는 증여세를 내지 않아도 되는지요?\\n무상으로 증여받은 주식의 경우 어떤 가액을 기준으로 신고하나요?\\n주식등 증여세 계산은 어떻게 하나요?\\n증여받은 주식에 대한 증여세는 언제까지 신고해야 하나요? \\n주식등에 대한 양도소득세 또는 증여세를 기한 내 신고하지 않는\\n경우 불이익에 대해 알고 싶어요\\n제3장\\n제4장\\n77\\n78\\n79\\n97\\n100\\n101\\n102\\n112\\n113\\n114\\n115\\n83\\n85\\n86\\n89\\n90\\n77\\n83\\n제1절   주식등 거래 관련 증권거래세 등\\n제2절   주식등 증여 관련 증여세\\n목차'), Document(metadata={'source': './[2024 한권으로 ok 주식과 세금].pdf', 'page': 8}, page_content='배당소득의 이해\\n 54.\\n 55.\\n56.\\n57.\\n58.\\n59.\\n60.\\n61.\\n62.\\n63.\\n64.\\n65.\\n소득세는 어떤 세금인가요?\\n종합소득세에 대해 구체적으로 알고 싶어요 \\n금융소득종합과세란 무엇인가요? \\n배당소득세가 궁금해요? \\n비과세, 감면 등 과세되지 않는 배당소득은 무엇이 있나요? \\n배당소득이 발생한 날은 언제가 되는 건가요? \\n배당소득금액은 어떻게 계산하나요? \\n상장주식 보유 시 배당금이 지급된 경우\\n지급하는 회사가 원천징수를 하나요? \\n배당소득이 종합과세되는 경우 종합과세 방법은? \\n배당소득이 종합과세되는 경우 세액계산은 어떻게 하나요? \\n금융소득 종합과세시 적용되는 종합소득세 기본세율은\\n어떻게 되나요? \\n배당세액공제 및 기납부세액의 공제방법을 알려주세요\\n제5장\\n119\\n120\\n123\\n125\\n128\\n130\\n131\\n133\\n136\\n137 \\n140\\n141\\n주식의 평가\\n66.\\n67.\\n68.\\n69.\\n70.\\n주식평가는 왜 하는 건가요? \\n평가는 언제를 기준으로 하나요? \\n주식 평가방법을 알려주세요 \\n주식평가 시 시가란 무엇인가요?\\n시가가 없는 경우 어떻게 평가하나요?\\n제6장\\n145\\n146\\n149\\n153\\n155\\n목차'), Document(metadata={'source': './[2024 한권으로 ok 주식과 세금].pdf', 'page': 9}, page_content=\"71.\\n72.\\n73.\\n74.\\n비상장주식의 보충적 평가방법을 구체적으로 알고 싶어요 \\n부동산을 많이 보유하고 있는 비상장주식의\\n평가방법이 다르다고 들었는데 \\n순자산가치로만 평가하는 경우에 대해 알려주세요 \\n특수한 경우의 주식평가 방법도 알려주세요\\n156\\n159\\n163\\n165\\n주식 관련 조세특례\\n75.\\n76.\\n개인종합자산관리계좌(ISA)가 뭔가요? \\n벤처기업에 출자하는 경우 세금혜택은 없나요?\\n제7장\\n169\\n174\\n절세 꿀팁 모음제8장\\n꿀팁1.\\n꿀팁2. \\n꿀팀3.\\n꿀팁4.\\n꿀팁5. \\n꿀팀6.\\n손실 활용(실현)하기 \\n증여재산공제 활용하기 \\n양도소득 기본공제 활용하기\\n'상장주식 증여' vs '주식취득자금 증여' \\n주가가 떨어졌을 때 증여를 고려하세요 \\n비상장주식 거래 시 유의사항\\n개인종합자산관리계좌 활용하기\\n177\\n178\\n179\\n180\\n180\\n181\\n177\\n180\\n1. 주식 양도소득세 절세\\n2. 주식 증여세 절세\\n목차\\n꿀팁7. 181\\n3. 기타 절세 181\"), Document(metadata={'source': './[2024 한권으로 ok 주식과 세금].pdf', 'page': 10}, page_content='자주 실수하는 주식 양도소득세 신고사례\\n사례1.\\n사례2.\\n사례3.\\n사례4.\\n사례5.\\n사례6.\\n사례7.\\n사례8.\\n사례9.\\n사례10.\\n사례11.\\n사례12.\\n중소기업 여부를 확인하지 않고 세율을 잘못 적용한 사례\\n대주주 여부를 확인하지 않고 세율을 잘못 적용한 사례\\n보유기간을 확인하지 않고 세율을 잘못 적용한 사례 사례\\n연간 양도소득금액을 합산하여 누진세율(25%)을 적용하여야\\n하나 세율 적용을 잘못한 사례 \\n특정주식에 적용되는 일반 누진세율(6~45%) 미적용 사례\\n신주인수권 단기 양도 후 단기 양도세율(30%) 미적용 사례\\n이혼한 배우자의 보유주식을 포함하지 않고 \\n최대주주 여부를 판단한 사례 \\n대주주 요건에 해당하는 기존 보유주식을 전량 처분한 후 새로 \\n매수한 주식 기준으로 대주주 요건을 잘못 판단한 사례 \\n주식 매매계약 체결일과 결제일을 혼동하여 대주주 요건을 잘못 \\n판단한 사례\\n과세대상이 아닌 주식거래의 손실을 반영하여 신고한 사례 \\n예정신고기간에 국외주식의 양도차손을 국내주식과 통산하여 \\n신고한 사례\\n손익통산 순서를 잘못 적용하여 신고한 사례\\n제9장\\n185\\n186\\n187\\n188\\n189\\n190\\n191\\n192\\n193\\n194\\n195\\n196\\n목차\\n185\\n191\\n194\\n1. 세율 적용\\n2. 대주주 판단\\n3. 손익 통산'), Document(metadata={'source': './[2024 한권으로 ok 주식과 세금].pdf', 'page': 11}, page_content='National Tax Service\\n1974. 기본 공제\\n1985. 기타\\n사례13.\\n사례14.\\n 기본공제를 매 예정신고마다 중복 적용한 사례\\n 상장주식 장외 거래분 양도소득세 신고 누락\\n197\\n198\\n목차')]\n"
     ]
    }
   ],
   "source": [
    "text_splitter = CharacterTextSplitter(\n",
    "    separator=\"\\n\\n\",   # 두 개의 개행 문자를 구분자로 사용\n",
    "    chunk_size=100, # 최대 100자씩 나눈다.\n",
    "    chunk_overlap=10,   # 각 조각에 앞뒤로 5자의 중복을 포함한다.\n",
    "    length_function=len,    # 길이를 계산할 때 문자 수(len)를 기준으로 한다.\n",
    "    is_separator_regex=False,   # 구분자를 단순 문자열로 처리\n",
    ")\n",
    "\n",
    "splits = text_splitter.split_documents(docs)\n",
    "\n",
    "print(splits[:10]) # 청킹된 내용 상위 10개 출력"
   ]
  },
  {
   "cell_type": "markdown",
   "metadata": {},
   "source": [
    "2. RecursiveCharacterTextSplitter"
   ]
  },
  {
   "cell_type": "code",
   "execution_count": 58,
   "metadata": {},
   "outputs": [
    {
     "name": "stdout",
     "output_type": "stream",
     "text": [
      "[Document(metadata={'source': './[2024 한권으로 ok 주식과 세금].pdf', 'page': 2}, page_content='지난해 말 국내 상장법인 주식을 보유한 개인 투자자가 1,400만명을 넘어서는 등  \\n국민들의 주식시장에 대한 관심이 크게 증가하였습니다.'), Document(metadata={'source': './[2024 한권으로 ok 주식과 세금].pdf', 'page': 2}, page_content='최근 일반 국민들의 주식투자에 대한 관심이 크게 증가했음에도 불구하고, 주식 투자  \\n관련 세금문제 등 궁금한 사항에 대하여 도움을 줄 수 있는 안내책자 등은 시중에서'), Document(metadata={'source': './[2024 한권으로 ok 주식과 세금].pdf', 'page': 2}, page_content='쉽게 찾아보기 어려운 게 현실입니다.\\n이에 국세청에서는 주식 관련 각종 세금에 대한 납세자들의 이해를 높이고 납세의무'), Document(metadata={'source': './[2024 한권으로 ok 주식과 세금].pdf', 'page': 2}, page_content='이행에 도움이 될 수 있도록 「주식과 세금」 책자를 처음으로 제작·발간하게 되었습니다.\\n이번에 새롭게 출간하는 ‘주식과 세금’ 책자는 주식거래의 기초상식과 주식의 취득'), Document(metadata={'source': './[2024 한권으로 ok 주식과 세금].pdf', 'page': 2}, page_content='부터 보유 및 처분시까지 단계별 세금문제를 총 76개의 문답형식으로 구성하는 한편, \\n인포그래픽 등을 적극 활용하여 가독성을 제고하였으며, 구체적인 절세 꿀팁 및 자주'), Document(metadata={'source': './[2024 한권으로 ok 주식과 세금].pdf', 'page': 2}, page_content='발생하는 실수 사례 등을 추가하여 활용성도 강화하였습니다.\\n모쪼록, 이 책자가 주식등 관련 납세자들의 성실한 납세의무 이행에 기여할 수 있기를\\n기대합니다.\\n2024.  5'), Document(metadata={'source': './[2024 한권으로 ok 주식과 세금].pdf', 'page': 2}, page_content='2024.  5\\n국세청 자산과세국장\\n머리말'), Document(metadata={'source': './[2024 한권으로 ok 주식과 세금].pdf', 'page': 3}, page_content='본 책자에 수록된 내용은 세법에서 규정하고 있는 내용을 알기 쉽게 요약하여 서술한\\n것으로 모든 법령규정을 담고 있지는 않습니다.'), Document(metadata={'source': './[2024 한권으로 ok 주식과 세금].pdf', 'page': 3}, page_content='또한, 법령이 개정되거나 법령의 해석이 변경되어 본 책자의 내용과 다른 경우가 발생\\n할 수 있으므로 실제 사안에 적용하는 경우 반드시 관련 법령과 해석 등을 충분히 확인'), Document(metadata={'source': './[2024 한권으로 ok 주식과 세금].pdf', 'page': 3}, page_content='하시기 바랍니다.\\n본 책자는 발간일 현재 개정된 법령 등을 기준으로 작성되었습니다. 다만, 시행이  \\n유예된 법령 등은 반영되어 있지 않습니다.')]\n"
     ]
    }
   ],
   "source": [
    "recursive_text_splitter = RecursiveCharacterTextSplitter(\n",
    "    chunk_size=100, # 최대 100자씩 나눈다.\n",
    "    chunk_overlap=10,   # 각 조각에 앞뒤로 5자의 중복을 포함한다.\n",
    "    length_function=len,    # 길이를 계산할 때 문자 수(len)를 기준으로 한다.\n",
    "    is_separator_regex=False,   # 구분자를 단순 문자열로 처리\n",
    ")\n",
    "\n",
    "splits_RCT = recursive_text_splitter.split_documents(docs)\n",
    "\n",
    "print(splits_RCT[:10])  # 청킹된 내용 상위 10개 출력"
   ]
  },
  {
   "cell_type": "markdown",
   "metadata": {},
   "source": [
    "과제에서는 한 가지 청킹 방식만 사용하면 된다.   \n",
    "나는 _**RecursiveCharacterTextSplitter**_ 청킹 방식을 선택했다."
   ]
  },
  {
   "cell_type": "markdown",
   "metadata": {},
   "source": [
    "## 5. 벡터 임베딩 생성\n",
    "OpenAI 모델을 사용했기 때문에 OpenAIEmbeddings를 이용해 텍스트를 벡터로 변환할 벡터 임베딩을 생성했다."
   ]
  },
  {
   "cell_type": "code",
   "execution_count": 59,
   "metadata": {},
   "outputs": [],
   "source": [
    "# OpenAI 임베딩 모델 초기화\n",
    "embeddings = OpenAIEmbeddings(model=\"text-embedding-ada-002\")"
   ]
  },
  {
   "cell_type": "markdown",
   "metadata": {},
   "source": [
    "'text-embedding-ada-002' 모델을 사용하여 텍스트 데이터를 임베딩 벡터로 변환한다.   \n",
    "이 모델은 텍스트 데이터를 고차원 벡터로 변환하는 데 사용된다.   \n",
    "자연어 처리(NLP) 작업에서 텍스트를 벡터 공간으로 변환하여, 유사도 검색, 클러스터링, 분류 등 다양한 작업에 활용된다."
   ]
  },
  {
   "cell_type": "markdown",
   "metadata": {},
   "source": [
    "## 6. 벡터 스토어 생성"
   ]
  },
  {
   "cell_type": "markdown",
   "metadata": {},
   "source": [
    "앞서 만든 벡터 임베딩과 청크된 문서를 활용하여 FAISS 벡터 스토어를 생성했다."
   ]
  },
  {
   "cell_type": "code",
   "execution_count": 60,
   "metadata": {},
   "outputs": [],
   "source": [
    "vectorstore = FAISS.from_documents(documents=splits, embedding=embeddings)"
   ]
  },
  {
   "cell_type": "markdown",
   "metadata": {},
   "source": [
    "_**FAISS.from_documents**_ 는 splits_RCT라는 문서 목록을 받아들여, 각 문서를 임베딩 모델(embeddings)을 사용하여 벡터로 변환한 후, 이 벡터들을 FAISS 벡터스토어에 저장하는 역할을 한다.   \n",
    "_**splits_RCT**_ 는 우리가 pdf 문서들을 chunk 단위로 나눈 데이터다. 이 데이터를 벡터로 변환하여 검색할 수 있게 documents에 저장한다.   \n",
    "_**embedding**_ 에는 텍스트 임베딩 모델을 지정한다. 여기서는 OpenAI의 text-embedding-ada-002 모델을 사용하여 문서 벡터를 생성한다."
   ]
  },
  {
   "cell_type": "markdown",
   "metadata": {},
   "source": [
    "## 7. FAISS를 Retriever로 변환"
   ]
  },
  {
   "cell_type": "markdown",
   "metadata": {},
   "source": [
    "RAG 체인에서 사용할 수 있도록 FAISS를 retriever로 변환하자."
   ]
  },
  {
   "cell_type": "code",
   "execution_count": 61,
   "metadata": {},
   "outputs": [],
   "source": [
    "retriever = vectorstore.as_retriever(search_type=\"similarity\", search_kwargs={\"k\": 1})"
   ]
  },
  {
   "cell_type": "markdown",
   "metadata": {},
   "source": [
    "_**RAG**_ (Retrieval-Augmented Generation) 체인에서 FAISS를 retriever로 변환하는 이유는 검색 기반 텍스트 생성을 효율적으로 수행하기 위해서다. RAG 체인에서는 **검색**과 **생성**의 두 단계가 중요한 역할을 한다. 이를 통해 모델은 주어진 질문에 대한 답변을 더 잘 생성할 수 있도록 외부 지식을 활용한다."
   ]
  },
  {
   "cell_type": "markdown",
   "metadata": {},
   "source": [
    "_**as_retriever()**_ 메서드는 vectorstore를 retriever로 변환하는 역할을 한다. 이 메서드는 벡터 데이터베이스에서 검색을 수행할 수 있도록 변환해 준다.  \n",
    "_**search_type=\"similarity\"**_ 에 의해 유사도 검색이 실행되고, _**{\"k\": 1}**_ 설정에 따라 가장 유사한 문서 1개만 검색해서 반환한다."
   ]
  },
  {
   "cell_type": "markdown",
   "metadata": {},
   "source": [
    "## 8. 프롬프트 템플릿 정의"
   ]
  },
  {
   "cell_type": "markdown",
   "metadata": {},
   "source": [
    "프롬프트 템플릿을 정의하자."
   ]
  },
  {
   "cell_type": "code",
   "execution_count": 62,
   "metadata": {},
   "outputs": [],
   "source": [
    "contextual_prompt = ChatPromptTemplate.from_messages([\n",
    "    (\"system\", \"Answer the question using only the following context.\"),\n",
    "    (\"user\", \"Context: {context}\\\\n\\\\nQuestion: {question}\")\n",
    "])"
   ]
  },
  {
   "cell_type": "markdown",
   "metadata": {},
   "source": [
    "_**system**_ 메시지를 통해 모델에게 주어진 문맥 내에서만 질문에 답하라는 지시를 내렸다.   \n",
    "_**user**_ 메시지에는 실제 _**context**_ 와 _**question**_ 이 채워질 수 있도록 변수를 포함한 프롬프트 템플릿을 생성했다.   \n",
    "따라서 {context}와 {question}은 나중에 동적으로 입력값에 따라 채워지게 된다.   \n",
    "   \n",
    "즉, 이 템플릿은 이후 사용자가 'context'와 'question'을 제공했을 때,   \n",
    "\"Context: <문맥 내용>\\\\n\\\\nQuestion: <질문 내용>\" 형태로 메시지를 만들어내게 된다."
   ]
  },
  {
   "cell_type": "markdown",
   "metadata": {},
   "source": []
  }
 ],
 "metadata": {
  "kernelspec": {
   "display_name": "AI_1",
   "language": "python",
   "name": "python3"
  },
  "language_info": {
   "codemirror_mode": {
    "name": "ipython",
    "version": 3
   },
   "file_extension": ".py",
   "mimetype": "text/x-python",
   "name": "python",
   "nbconvert_exporter": "python",
   "pygments_lexer": "ipython3",
   "version": "3.12.7"
  }
 },
 "nbformat": 4,
 "nbformat_minor": 2
}
